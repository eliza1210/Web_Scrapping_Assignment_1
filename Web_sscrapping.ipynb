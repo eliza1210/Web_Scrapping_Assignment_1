{
 "cells": [
  {
   "cell_type": "markdown",
   "id": "75db1096",
   "metadata": {},
   "source": [
    "# 1) Write a python program to display all the header tags from wikipedia.org."
   ]
  },
  {
   "cell_type": "code",
   "execution_count": 39,
   "id": "71c22df4",
   "metadata": {},
   "outputs": [
    {
     "data": {
      "text/plain": [
       "<Response [200]>"
      ]
     },
     "execution_count": 39,
     "metadata": {},
     "output_type": "execute_result"
    }
   ],
   "source": [
    "#1) Write a python program to display all the header tags from wikipedia.org.\n",
    "from bs4 import BeautifulSoup\n",
    "import requests\n",
    "\n",
    "headings=[] #empty list to store the data\n",
    "\n",
    "#for i in soup.find_all('div',class_=\"restnt-info cursor\"):\n",
    "#    headings.append(i.text)\n",
    "#headings   \n",
    "\n",
    "url = requests.get('https://en.wikipedia.org/wiki/Main_Page')\n",
    "url\n",
    "#soup = BeautifulSoup(url.text, 'html.parser')\n",
    "#story = soup.find_all(['h1', 'h2','h3'])"
   ]
  },
  {
   "cell_type": "code",
   "execution_count": 40,
   "id": "b8682cdf",
   "metadata": {},
   "outputs": [
    {
     "name": "stdout",
     "output_type": "stream",
     "text": [
      "<h1 class=\"firstHeading mw-first-heading\" id=\"firstHeading\" style=\"display: none\">\n",
      " Main Page\n",
      "</h1>\n",
      "\n",
      "<h1>\n",
      " <span class=\"mw-headline\" id=\"Welcome_to_Wikipedia\">\n",
      "  Welcome to\n",
      "  <a href=\"/wiki/Wikipedia\" title=\"Wikipedia\">\n",
      "   Wikipedia\n",
      "  </a>\n",
      " </span>\n",
      "</h1>\n",
      "\n",
      "<h2 class=\"mp-h2\" id=\"mp-tfa-h2\">\n",
      " <span id=\"From_today.27s_featured_article\">\n",
      " </span>\n",
      " <span class=\"mw-headline\" id=\"From_today's_featured_article\">\n",
      "  From today's featured article\n",
      " </span>\n",
      "</h2>\n",
      "\n",
      "<h2 class=\"mp-h2\" id=\"mp-dyk-h2\">\n",
      " <span class=\"mw-headline\" id=\"Did_you_know_...\">\n",
      "  Did you know ...\n",
      " </span>\n",
      "</h2>\n",
      "\n",
      "<h2 class=\"mp-h2\" id=\"mp-itn-h2\">\n",
      " <span class=\"mw-headline\" id=\"In_the_news\">\n",
      "  In the news\n",
      " </span>\n",
      "</h2>\n",
      "\n",
      "<h2 class=\"mp-h2\" id=\"mp-otd-h2\">\n",
      " <span class=\"mw-headline\" id=\"On_this_day\">\n",
      "  On this day\n",
      " </span>\n",
      "</h2>\n",
      "\n",
      "<h2 class=\"mp-h2\" id=\"mp-tfp-h2\">\n",
      " <span id=\"Today.27s_featured_picture\">\n",
      " </span>\n",
      " <span class=\"mw-headline\" id=\"Today's_featured_picture\">\n",
      "  Today's featured picture\n",
      " </span>\n",
      "</h2>\n",
      "\n",
      "<h2 class=\"mp-h2\" id=\"mp-other\">\n",
      " <span class=\"mw-headline\" id=\"Other_areas_of_Wikipedia\">\n",
      "  Other areas of Wikipedia\n",
      " </span>\n",
      "</h2>\n",
      "\n",
      "<h2 class=\"mp-h2\" id=\"mp-sister\">\n",
      " <span id=\"Wikipedia.27s_sister_projects\">\n",
      " </span>\n",
      " <span class=\"mw-headline\" id=\"Wikipedia's_sister_projects\">\n",
      "  Wikipedia's sister projects\n",
      " </span>\n",
      "</h2>\n",
      "\n",
      "<h2 class=\"mp-h2\" id=\"mp-lang\">\n",
      " <span class=\"mw-headline\" id=\"Wikipedia_languages\">\n",
      "  Wikipedia languages\n",
      " </span>\n",
      "</h2>\n",
      "\n",
      "<h2>\n",
      " Navigation menu\n",
      "</h2>\n",
      "\n",
      "<h3>\n",
      " <label for=\"searchInput\">\n",
      "  Search\n",
      " </label>\n",
      "</h3>\n",
      "\n"
     ]
    }
   ],
   "source": [
    "soup = BeautifulSoup(url.text, 'html.parser')\n",
    "\n",
    "for i in soup.find_all(['h1', 'h2','h3']):\n",
    "    print(i.prettify())"
   ]
  },
  {
   "cell_type": "markdown",
   "id": "f9d5ba66",
   "metadata": {},
   "source": [
    "# 2) Write a python program to display IMDB’s Top rated 100 movies’ data (i.e. name, rating, year of release) and make data frame."
   ]
  },
  {
   "cell_type": "code",
   "execution_count": 10,
   "id": "4d08b73b",
   "metadata": {},
   "outputs": [
    {
     "data": {
      "text/plain": [
       "<Response [200]>"
      ]
     },
     "execution_count": 10,
     "metadata": {},
     "output_type": "execute_result"
    }
   ],
   "source": [
    "#2) Write a python program to display IMDB’s Top rated 100 movies’ data (i.e. name, rating, year of release) and make data frame.\n",
    "\n",
    "from bs4 import BeautifulSoup\n",
    "import requests\n",
    "import pandas as pd\n",
    "\n",
    "url = \"https://www.imdb.com/chart/top/\"\n",
    "response = requests.get(url)\n",
    "response\n"
   ]
  },
  {
   "cell_type": "code",
   "execution_count": null,
   "id": "12c18d8a",
   "metadata": {},
   "outputs": [],
   "source": [
    "response.content"
   ]
  },
  {
   "cell_type": "code",
   "execution_count": null,
   "id": "9848837e",
   "metadata": {},
   "outputs": [],
   "source": [
    "soup=BeautifulSoup(response.content,\"html.parser\")\n",
    "print(soup.prettify())"
   ]
  },
  {
   "cell_type": "code",
   "execution_count": null,
   "id": "b67a8136",
   "metadata": {},
   "outputs": [],
   "source": [
    "movie_name= soup.find_all('td',class_=\"titleColumn\")\n",
    "movie_name"
   ]
  },
  {
   "cell_type": "code",
   "execution_count": null,
   "id": "da2fe11a",
   "metadata": {},
   "outputs": [],
   "source": []
  },
  {
   "cell_type": "code",
   "execution_count": null,
   "id": "49ce4520",
   "metadata": {},
   "outputs": [],
   "source": [
    "movie=[]\n",
    "for i in movie_name:\n",
    "    i=(i.get_text().replace('\\n',\"\"))\n",
    "    i=i.strip(\" \")\n",
    "    movie.append(i)\n",
    "movie    "
   ]
  },
  {
   "cell_type": "code",
   "execution_count": null,
   "id": "aebd0660",
   "metadata": {},
   "outputs": [],
   "source": [
    "movie_rating=soup.find_all('td',class_=\"ratingColumn imdbRating\")\n",
    "movie_rating"
   ]
  },
  {
   "cell_type": "code",
   "execution_count": null,
   "id": "d22e9502",
   "metadata": {},
   "outputs": [],
   "source": [
    "rating=[]\n",
    "for i in movie_rating:\n",
    "        i=i.get_text().replace('\\n',\"\")\n",
    "        rating.append(i)\n",
    "rating        "
   ]
  },
  {
   "cell_type": "code",
   "execution_count": 70,
   "id": "89b0e04f",
   "metadata": {},
   "outputs": [
    {
     "data": {
      "text/html": [
       "<div>\n",
       "<style scoped>\n",
       "    .dataframe tbody tr th:only-of-type {\n",
       "        vertical-align: middle;\n",
       "    }\n",
       "\n",
       "    .dataframe tbody tr th {\n",
       "        vertical-align: top;\n",
       "    }\n",
       "\n",
       "    .dataframe thead th {\n",
       "        text-align: right;\n",
       "    }\n",
       "</style>\n",
       "<table border=\"1\" class=\"dataframe\">\n",
       "  <thead>\n",
       "    <tr style=\"text-align: right;\">\n",
       "      <th></th>\n",
       "      <th>Movie Name</th>\n",
       "      <th>Rating</th>\n",
       "      <th>Year</th>\n",
       "    </tr>\n",
       "  </thead>\n",
       "  <tbody>\n",
       "    <tr>\n",
       "      <th>0</th>\n",
       "      <td>1.      The Shawshank Redemption(1994)</td>\n",
       "      <td>9.2</td>\n",
       "      <td>1994</td>\n",
       "    </tr>\n",
       "    <tr>\n",
       "      <th>1</th>\n",
       "      <td>2.      The Godfather(1972)</td>\n",
       "      <td>9.2</td>\n",
       "      <td>1972</td>\n",
       "    </tr>\n",
       "    <tr>\n",
       "      <th>2</th>\n",
       "      <td>3.      The Dark Knight(2008)</td>\n",
       "      <td>9.0</td>\n",
       "      <td>2008</td>\n",
       "    </tr>\n",
       "    <tr>\n",
       "      <th>3</th>\n",
       "      <td>4.      The Godfather: Part II(1974)</td>\n",
       "      <td>9.0</td>\n",
       "      <td>1974</td>\n",
       "    </tr>\n",
       "    <tr>\n",
       "      <th>4</th>\n",
       "      <td>5.      12 Angry Men(1957)</td>\n",
       "      <td>8.9</td>\n",
       "      <td>1957</td>\n",
       "    </tr>\n",
       "    <tr>\n",
       "      <th>...</th>\n",
       "      <td>...</td>\n",
       "      <td>...</td>\n",
       "      <td>...</td>\n",
       "    </tr>\n",
       "    <tr>\n",
       "      <th>95</th>\n",
       "      <td>96.      M - Eine Stadt sucht einen Mörder(1931)</td>\n",
       "      <td>8.3</td>\n",
       "      <td>1931</td>\n",
       "    </tr>\n",
       "    <tr>\n",
       "      <th>96</th>\n",
       "      <td>97.      North by Northwest(1959)</td>\n",
       "      <td>8.3</td>\n",
       "      <td>1959</td>\n",
       "    </tr>\n",
       "    <tr>\n",
       "      <th>97</th>\n",
       "      <td>98.      Jagten(2012)</td>\n",
       "      <td>8.3</td>\n",
       "      <td>2012</td>\n",
       "    </tr>\n",
       "    <tr>\n",
       "      <th>98</th>\n",
       "      <td>99.      Vertigo(1958)</td>\n",
       "      <td>8.2</td>\n",
       "      <td>1958</td>\n",
       "    </tr>\n",
       "    <tr>\n",
       "      <th>99</th>\n",
       "      <td>100.      Le fabuleux destin d'Amélie Poulain(...</td>\n",
       "      <td>8.2</td>\n",
       "      <td>2001</td>\n",
       "    </tr>\n",
       "  </tbody>\n",
       "</table>\n",
       "<p>100 rows × 3 columns</p>\n",
       "</div>"
      ],
      "text/plain": [
       "                                           Movie Name Rating  Year\n",
       "0              1.      The Shawshank Redemption(1994)    9.2  1994\n",
       "1                         2.      The Godfather(1972)    9.2  1972\n",
       "2                       3.      The Dark Knight(2008)    9.0  2008\n",
       "3                4.      The Godfather: Part II(1974)    9.0  1974\n",
       "4                          5.      12 Angry Men(1957)    8.9  1957\n",
       "..                                                ...    ...   ...\n",
       "95   96.      M - Eine Stadt sucht einen Mörder(1931)    8.3  1931\n",
       "96                  97.      North by Northwest(1959)    8.3  1959\n",
       "97                              98.      Jagten(2012)    8.3  2012\n",
       "98                             99.      Vertigo(1958)    8.2  1958\n",
       "99  100.      Le fabuleux destin d'Amélie Poulain(...    8.2  2001\n",
       "\n",
       "[100 rows x 3 columns]"
      ]
     },
     "execution_count": 70,
     "metadata": {},
     "output_type": "execute_result"
    }
   ],
   "source": [
    "data=pd.DataFrame()\n",
    "\n",
    "for i in range(100):\n",
    "    if i==100:\n",
    "        break\n",
    "    data['Movie Name']=movie\n",
    "    data['Rating']=rating\n",
    "    \n",
    "data['Year']=data['Movie Name'].str[-5:-1]\n",
    "data.head(100)  "
   ]
  },
  {
   "cell_type": "code",
   "execution_count": 71,
   "id": "8ae5f5cc",
   "metadata": {},
   "outputs": [],
   "source": [
    "data.head(100).to_csv('IMDB_Top_Movies.csv',index=False)"
   ]
  },
  {
   "cell_type": "markdown",
   "id": "57c529c2",
   "metadata": {},
   "source": [
    "# 3) Write a python program to display IMDB’s Top rated 100 Indian movies’ data (i.e. name, rating, year of release) and make data frame.\n"
   ]
  },
  {
   "cell_type": "code",
   "execution_count": 72,
   "id": "dd73bd93",
   "metadata": {},
   "outputs": [
    {
     "data": {
      "text/plain": [
       "<Response [200]>"
      ]
     },
     "execution_count": 72,
     "metadata": {},
     "output_type": "execute_result"
    }
   ],
   "source": [
    "from bs4 import BeautifulSoup\n",
    "import requests\n",
    "import pandas as pd\n",
    "\n",
    "url = \"https://www.imdb.com/india/top-rated-indian-movies/\"\n",
    "response = requests.get(url)\n",
    "response"
   ]
  },
  {
   "cell_type": "code",
   "execution_count": null,
   "id": "0ef66d57",
   "metadata": {},
   "outputs": [],
   "source": [
    "response.content"
   ]
  },
  {
   "cell_type": "code",
   "execution_count": null,
   "id": "46f02ff1",
   "metadata": {},
   "outputs": [],
   "source": [
    "soup=BeautifulSoup(response.content,\"html.parser\")\n",
    "print(soup.prettify())"
   ]
  },
  {
   "cell_type": "code",
   "execution_count": null,
   "id": "264e8de5",
   "metadata": {},
   "outputs": [],
   "source": [
    "movie_name= soup.find_all('td',class_=\"titleColumn\")\n",
    "movie_name"
   ]
  },
  {
   "cell_type": "code",
   "execution_count": null,
   "id": "e525f0de",
   "metadata": {},
   "outputs": [],
   "source": [
    "movie=[]\n",
    "for i in movie_name:\n",
    "    i=(i.get_text().replace('\\n',\"\"))\n",
    "    i=i.strip(\" \")\n",
    "    movie.append(i)\n",
    "movie  "
   ]
  },
  {
   "cell_type": "code",
   "execution_count": null,
   "id": "40fbc097",
   "metadata": {},
   "outputs": [],
   "source": [
    "movie_rating=soup.find_all('td',class_=\"ratingColumn imdbRating\")\n",
    "movie_rating"
   ]
  },
  {
   "cell_type": "code",
   "execution_count": null,
   "id": "e317c92a",
   "metadata": {},
   "outputs": [],
   "source": [
    "rating=[]\n",
    "for i in movie_rating:\n",
    "        i=i.get_text().replace('\\n',\"\")\n",
    "        rating.append(i)\n",
    "rating"
   ]
  },
  {
   "cell_type": "code",
   "execution_count": 79,
   "id": "d931f041",
   "metadata": {},
   "outputs": [
    {
     "data": {
      "text/html": [
       "<div>\n",
       "<style scoped>\n",
       "    .dataframe tbody tr th:only-of-type {\n",
       "        vertical-align: middle;\n",
       "    }\n",
       "\n",
       "    .dataframe tbody tr th {\n",
       "        vertical-align: top;\n",
       "    }\n",
       "\n",
       "    .dataframe thead th {\n",
       "        text-align: right;\n",
       "    }\n",
       "</style>\n",
       "<table border=\"1\" class=\"dataframe\">\n",
       "  <thead>\n",
       "    <tr style=\"text-align: right;\">\n",
       "      <th></th>\n",
       "      <th>Movie Name</th>\n",
       "      <th>Rating</th>\n",
       "      <th>Year</th>\n",
       "    </tr>\n",
       "  </thead>\n",
       "  <tbody>\n",
       "    <tr>\n",
       "      <th>0</th>\n",
       "      <td>1.      K.G.F: Chapter 2(2022)</td>\n",
       "      <td>8.5</td>\n",
       "      <td>2022</td>\n",
       "    </tr>\n",
       "    <tr>\n",
       "      <th>1</th>\n",
       "      <td>2.      Anbe Sivam(2003)</td>\n",
       "      <td>8.4</td>\n",
       "      <td>2003</td>\n",
       "    </tr>\n",
       "    <tr>\n",
       "      <th>2</th>\n",
       "      <td>3.      Jai Bhim(2021)</td>\n",
       "      <td>8.4</td>\n",
       "      <td>2021</td>\n",
       "    </tr>\n",
       "    <tr>\n",
       "      <th>3</th>\n",
       "      <td>4.      Golmaal(1979)</td>\n",
       "      <td>8.4</td>\n",
       "      <td>1979</td>\n",
       "    </tr>\n",
       "    <tr>\n",
       "      <th>4</th>\n",
       "      <td>5.      Nayakan(1987)</td>\n",
       "      <td>8.4</td>\n",
       "      <td>1987</td>\n",
       "    </tr>\n",
       "    <tr>\n",
       "      <th>...</th>\n",
       "      <td>...</td>\n",
       "      <td>...</td>\n",
       "      <td>...</td>\n",
       "    </tr>\n",
       "    <tr>\n",
       "      <th>95</th>\n",
       "      <td>96.      Baasha(1995)</td>\n",
       "      <td>8.0</td>\n",
       "      <td>1995</td>\n",
       "    </tr>\n",
       "    <tr>\n",
       "      <th>96</th>\n",
       "      <td>97.      Masaan(2015)</td>\n",
       "      <td>8.0</td>\n",
       "      <td>2015</td>\n",
       "    </tr>\n",
       "    <tr>\n",
       "      <th>97</th>\n",
       "      <td>98.      Dil Chahta Hai(2001)</td>\n",
       "      <td>8.0</td>\n",
       "      <td>2001</td>\n",
       "    </tr>\n",
       "    <tr>\n",
       "      <th>98</th>\n",
       "      <td>99.      Kahaani(2012)</td>\n",
       "      <td>8.0</td>\n",
       "      <td>2012</td>\n",
       "    </tr>\n",
       "    <tr>\n",
       "      <th>99</th>\n",
       "      <td>100.      Maheshinte Prathikaaram(2016)</td>\n",
       "      <td>8.0</td>\n",
       "      <td>2016</td>\n",
       "    </tr>\n",
       "  </tbody>\n",
       "</table>\n",
       "<p>100 rows × 3 columns</p>\n",
       "</div>"
      ],
      "text/plain": [
       "                                 Movie Name Rating  Year\n",
       "0            1.      K.G.F: Chapter 2(2022)    8.5  2022\n",
       "1                  2.      Anbe Sivam(2003)    8.4  2003\n",
       "2                    3.      Jai Bhim(2021)    8.4  2021\n",
       "3                     4.      Golmaal(1979)    8.4  1979\n",
       "4                     5.      Nayakan(1987)    8.4  1987\n",
       "..                                      ...    ...   ...\n",
       "95                    96.      Baasha(1995)    8.0  1995\n",
       "96                    97.      Masaan(2015)    8.0  2015\n",
       "97            98.      Dil Chahta Hai(2001)    8.0  2001\n",
       "98                   99.      Kahaani(2012)    8.0  2012\n",
       "99  100.      Maheshinte Prathikaaram(2016)    8.0  2016\n",
       "\n",
       "[100 rows x 3 columns]"
      ]
     },
     "execution_count": 79,
     "metadata": {},
     "output_type": "execute_result"
    }
   ],
   "source": [
    "data=pd.DataFrame()\n",
    "\n",
    "for i in range(100):\n",
    "    if i==100:\n",
    "        break\n",
    "    data['Movie Name']=movie\n",
    "    data['Rating']=rating\n",
    "    \n",
    "data['Year']=data['Movie Name'].str[-5:-1]\n",
    "data.head(100)  "
   ]
  },
  {
   "cell_type": "code",
   "execution_count": 80,
   "id": "8bb7f374",
   "metadata": {},
   "outputs": [],
   "source": [
    "data.head(100).to_csv('IMDB_Top_Indian_Movies.csv',index=False)"
   ]
  },
  {
   "cell_type": "markdown",
   "id": "d5d6e620",
   "metadata": {},
   "source": [
    "# 4) Write a python program to scrape product name, price and discounts from https://meesho.com/bags\u0002ladies/pl/p7vbp . "
   ]
  },
  {
   "cell_type": "code",
   "execution_count": 878,
   "id": "54671d7c",
   "metadata": {},
   "outputs": [],
   "source": [
    "from bs4 import BeautifulSoup\n",
    "import requests"
   ]
  },
  {
   "cell_type": "code",
   "execution_count": 879,
   "id": "f087df8d",
   "metadata": {},
   "outputs": [
    {
     "data": {
      "text/plain": [
       "<Response [200]>"
      ]
     },
     "execution_count": 879,
     "metadata": {},
     "output_type": "execute_result"
    }
   ],
   "source": [
    "page=requests.get('https://meesho.com/bags\u0002ladies/pl/p7vbp')\n",
    "page"
   ]
  },
  {
   "cell_type": "code",
   "execution_count": null,
   "id": "d6c81354",
   "metadata": {},
   "outputs": [],
   "source": [
    "soup=BeautifulSoup(page.content)\n",
    "soup"
   ]
  },
  {
   "cell_type": "code",
   "execution_count": null,
   "id": "00cde33f",
   "metadata": {},
   "outputs": [],
   "source": [
    "soup=BeautifulSoup(page.content,\"html.parser\")\n",
    "print(soup.prettify())"
   ]
  },
  {
   "cell_type": "code",
   "execution_count": null,
   "id": "36fac63a",
   "metadata": {},
   "outputs": [],
   "source": [
    "prod_name=soup.find_all('p',class_=\"Text__StyledText-sc-oo0kvp-0 bWSOET NewProductCard__ProductTitle_Desktop-sc-j0e7tu-4 cQhePS NewProductCard__ProductTitle_Desktop-sc-j0e7tu-4 cQhePS\")\n",
    "prod_name"
   ]
  },
  {
   "cell_type": "code",
   "execution_count": null,
   "id": "6cf513c9",
   "metadata": {},
   "outputs": [],
   "source": [
    "prod=[]\n",
    "for i in prod_name:\n",
    "    prod.append(i.text)\n",
    "prod"
   ]
  },
  {
   "cell_type": "code",
   "execution_count": null,
   "id": "753f8421",
   "metadata": {},
   "outputs": [],
   "source": [
    "Prod_price=soup('h5',class_=\"Text__StyledText-sc-oo0kvp-0 hiHdyy\")\n",
    "Prod_price"
   ]
  },
  {
   "cell_type": "code",
   "execution_count": null,
   "id": "68ae34ff",
   "metadata": {},
   "outputs": [],
   "source": [
    "Price=[]\n",
    "for i in Prod_price:\n",
    "    Price.append(i.text)\n",
    "Price    "
   ]
  },
  {
   "cell_type": "code",
   "execution_count": null,
   "id": "6bb0e9fa",
   "metadata": {},
   "outputs": [],
   "source": [
    "Prod_disc=soup('span',class_=\"Text__StyledText-sc-oo0kvp-0 lnonyH\")\n",
    "Prod_disc"
   ]
  },
  {
   "cell_type": "code",
   "execution_count": null,
   "id": "10cc6ece",
   "metadata": {},
   "outputs": [],
   "source": [
    "Discount=[]\n",
    "for i in Prod_disc:\n",
    "    Discount.append(i.text.replace(' off',\"\"))\n",
    "Discount    "
   ]
  },
  {
   "cell_type": "code",
   "execution_count": 890,
   "id": "d92b24de",
   "metadata": {},
   "outputs": [
    {
     "data": {
      "text/html": [
       "<div>\n",
       "<style scoped>\n",
       "    .dataframe tbody tr th:only-of-type {\n",
       "        vertical-align: middle;\n",
       "    }\n",
       "\n",
       "    .dataframe tbody tr th {\n",
       "        vertical-align: top;\n",
       "    }\n",
       "\n",
       "    .dataframe thead th {\n",
       "        text-align: right;\n",
       "    }\n",
       "</style>\n",
       "<table border=\"1\" class=\"dataframe\">\n",
       "  <thead>\n",
       "    <tr style=\"text-align: right;\">\n",
       "      <th></th>\n",
       "      <th>Product</th>\n",
       "      <th>Price</th>\n",
       "      <th>Discount</th>\n",
       "    </tr>\n",
       "  </thead>\n",
       "  <tbody>\n",
       "    <tr>\n",
       "      <th>0</th>\n",
       "      <td>Ravishing Classy Women Handbags</td>\n",
       "      <td>₹950</td>\n",
       "      <td>5%</td>\n",
       "    </tr>\n",
       "    <tr>\n",
       "      <th>1</th>\n",
       "      <td>Graceful Fancy Women Handbags</td>\n",
       "      <td>₹528</td>\n",
       "      <td>9%</td>\n",
       "    </tr>\n",
       "    <tr>\n",
       "      <th>2</th>\n",
       "      <td>Classic Versatile Women Handbags</td>\n",
       "      <td>₹950</td>\n",
       "      <td>5%</td>\n",
       "    </tr>\n",
       "    <tr>\n",
       "      <th>3</th>\n",
       "      <td>Ravishing Alluring Women Handbags</td>\n",
       "      <td>₹384</td>\n",
       "      <td>12%</td>\n",
       "    </tr>\n",
       "    <tr>\n",
       "      <th>4</th>\n",
       "      <td>Voguish Fancy Women Handbags</td>\n",
       "      <td>₹1549</td>\n",
       "      <td>3%</td>\n",
       "    </tr>\n",
       "    <tr>\n",
       "      <th>5</th>\n",
       "      <td>Ravishing Fashionable Women Handbags</td>\n",
       "      <td>₹316</td>\n",
       "      <td>14%</td>\n",
       "    </tr>\n",
       "    <tr>\n",
       "      <th>6</th>\n",
       "      <td>Classic Stylish Women Handbags</td>\n",
       "      <td>₹3202</td>\n",
       "      <td>2%</td>\n",
       "    </tr>\n",
       "    <tr>\n",
       "      <th>7</th>\n",
       "      <td>Graceful Versatile Women Handbags</td>\n",
       "      <td>₹950</td>\n",
       "      <td>5%</td>\n",
       "    </tr>\n",
       "    <tr>\n",
       "      <th>8</th>\n",
       "      <td>Elegant Classy Women Handbags</td>\n",
       "      <td>₹950</td>\n",
       "      <td>5%</td>\n",
       "    </tr>\n",
       "    <tr>\n",
       "      <th>9</th>\n",
       "      <td>Elegant Alluring Women Handbags</td>\n",
       "      <td>₹2337</td>\n",
       "      <td>2%</td>\n",
       "    </tr>\n",
       "    <tr>\n",
       "      <th>10</th>\n",
       "      <td>Trendy Alluring Women Handbags</td>\n",
       "      <td>₹1320</td>\n",
       "      <td>4%</td>\n",
       "    </tr>\n",
       "    <tr>\n",
       "      <th>11</th>\n",
       "      <td>Elegant Fashionable Women Handbags</td>\n",
       "      <td>₹725</td>\n",
       "      <td>6%</td>\n",
       "    </tr>\n",
       "    <tr>\n",
       "      <th>12</th>\n",
       "      <td>Classic Alluring Women Handbags</td>\n",
       "      <td>₹518</td>\n",
       "      <td>9%</td>\n",
       "    </tr>\n",
       "    <tr>\n",
       "      <th>13</th>\n",
       "      <td>Classic Fashionable Women Handbags</td>\n",
       "      <td>₹620</td>\n",
       "      <td>7%</td>\n",
       "    </tr>\n",
       "    <tr>\n",
       "      <th>14</th>\n",
       "      <td>Classic Fancy Women Handbags</td>\n",
       "      <td>₹646</td>\n",
       "      <td>7%</td>\n",
       "    </tr>\n",
       "    <tr>\n",
       "      <th>15</th>\n",
       "      <td>Trendy Alluring Women Handbags</td>\n",
       "      <td>₹950</td>\n",
       "      <td>5%</td>\n",
       "    </tr>\n",
       "  </tbody>\n",
       "</table>\n",
       "</div>"
      ],
      "text/plain": [
       "                                 Product  Price Discount\n",
       "0        Ravishing Classy Women Handbags   ₹950       5%\n",
       "1          Graceful Fancy Women Handbags   ₹528       9%\n",
       "2       Classic Versatile Women Handbags   ₹950       5%\n",
       "3      Ravishing Alluring Women Handbags   ₹384      12%\n",
       "4           Voguish Fancy Women Handbags  ₹1549       3%\n",
       "5   Ravishing Fashionable Women Handbags   ₹316      14%\n",
       "6         Classic Stylish Women Handbags  ₹3202       2%\n",
       "7      Graceful Versatile Women Handbags   ₹950       5%\n",
       "8          Elegant Classy Women Handbags   ₹950       5%\n",
       "9        Elegant Alluring Women Handbags  ₹2337       2%\n",
       "10        Trendy Alluring Women Handbags  ₹1320       4%\n",
       "11    Elegant Fashionable Women Handbags   ₹725       6%\n",
       "12       Classic Alluring Women Handbags   ₹518       9%\n",
       "13    Classic Fashionable Women Handbags   ₹620       7%\n",
       "14          Classic Fancy Women Handbags   ₹646       7%\n",
       "15        Trendy Alluring Women Handbags   ₹950       5%"
      ]
     },
     "execution_count": 890,
     "metadata": {},
     "output_type": "execute_result"
    }
   ],
   "source": [
    "import pandas as pd\n",
    "Data=pd.DataFrame()\n",
    "\n",
    "Data['Product']=prod\n",
    "Data['Price']=Price\n",
    "Data['Discount']=Discount\n",
    "\n",
    "Data"
   ]
  },
  {
   "cell_type": "markdown",
   "id": "172e9bac",
   "metadata": {},
   "source": [
    "# 5) Write a python program to scrape cricket rankings from icc-cricket.com. You have to scrape:\n",
    "a) Top 10 ODI teams in men’s cricket along with the records for matches, points and rating.\n",
    "b) Top 10 ODI Batsmen along with the records of their team and rating.\n",
    "c) Top 10 ODI bowlers along with the records of their team and rating."
   ]
  },
  {
   "cell_type": "markdown",
   "id": "3487d59e",
   "metadata": {},
   "source": [
    "a) Top 10 ODI teams in men’s cricket along with the records for matches, points and rating."
   ]
  },
  {
   "cell_type": "code",
   "execution_count": 298,
   "id": "c7ca9bbd",
   "metadata": {},
   "outputs": [
    {
     "data": {
      "text/plain": [
       "<Response [200]>"
      ]
     },
     "execution_count": 298,
     "metadata": {},
     "output_type": "execute_result"
    }
   ],
   "source": [
    "from bs4 import BeautifulSoup\n",
    "import requests\n",
    "\n",
    "page=requests.get('https://www.icc-cricket.com/rankings/mens/team-rankings/odi')\n",
    "page\n"
   ]
  },
  {
   "cell_type": "code",
   "execution_count": null,
   "id": "2290e490",
   "metadata": {},
   "outputs": [],
   "source": [
    "soup=BeautifulSoup(page.content)\n",
    "soup\n"
   ]
  },
  {
   "cell_type": "code",
   "execution_count": 314,
   "id": "b3fb8c73",
   "metadata": {},
   "outputs": [
    {
     "data": {
      "text/plain": [
       "['1', 'New', 'Zealand', 'NZ', '20', '2,448', '122']"
      ]
     },
     "execution_count": 314,
     "metadata": {},
     "output_type": "execute_result"
    }
   ],
   "source": [
    "First_Team_name=soup.find('tr',class_=\"rankings-block__banner\")\n",
    "First_Team_name.get_text(strip=True,separator=\" \").split(\" \")"
   ]
  },
  {
   "cell_type": "code",
   "execution_count": null,
   "id": "aaf5dfdd",
   "metadata": {},
   "outputs": [],
   "source": [
    "Other_Team_name=soup.find_all('tr',class_=\"table-body\")\n",
    "Other_Team_name"
   ]
  },
  {
   "cell_type": "code",
   "execution_count": 313,
   "id": "7e2ab01a",
   "metadata": {},
   "outputs": [
    {
     "data": {
      "text/plain": [
       "[['1', 'New', 'Zealand', 'NZ', '20', '2,448', '122']]"
      ]
     },
     "execution_count": 313,
     "metadata": {},
     "output_type": "execute_result"
    }
   ],
   "source": [
    "final_Team_lst=[]\n",
    "final_Team_lst.append(First_Team_name.get_text(strip=True,separator=\" \").split(\" \"))\n",
    "final_Team_lst"
   ]
  },
  {
   "cell_type": "code",
   "execution_count": 315,
   "id": "2f93cbcd",
   "metadata": {},
   "outputs": [
    {
     "data": {
      "text/plain": [
       "[['1', 'New', 'Zealand', 'NZ', '20', '2,448', '122'],\n",
       " ['2', 'England', 'ENG', '32', '3,793', '119'],\n",
       " ['3', 'Australia', 'AUS', '31', '3,475', '112'],\n",
       " ['4', 'India', 'IND', '38', '4,162', '110'],\n",
       " ['5', 'South', 'Africa', 'SA', '31', '3,167', '102'],\n",
       " ['6', 'Pakistan', 'PAK', '30', '2,921', '97'],\n",
       " ['7', 'Bangladesh', 'BAN', '36', '3,350', '93'],\n",
       " ['8', 'Sri', 'Lanka', 'SL', '35', '2,835', '81'],\n",
       " ['9', 'West', 'Indies', 'WI', '36', '2,788', '77'],\n",
       " ['10', 'Afghanistan', 'AFG', '23', '1,562', '68']]"
      ]
     },
     "execution_count": 315,
     "metadata": {},
     "output_type": "execute_result"
    }
   ],
   "source": [
    "for i in Other_Team_name:\n",
    "    split_lst=i.get_text(strip=True,separator=\" \").split(\" \")\n",
    "    final_Team_lst.append(split_lst)\n",
    "final_Team_lst[:10]"
   ]
  },
  {
   "cell_type": "markdown",
   "id": "6f8dce68",
   "metadata": {},
   "source": [
    "b) Top 10 ODI Batsmen along with the records of their team and rating."
   ]
  },
  {
   "cell_type": "code",
   "execution_count": 847,
   "id": "a62865f1",
   "metadata": {},
   "outputs": [
    {
     "data": {
      "text/plain": [
       "<Response [200]>"
      ]
     },
     "execution_count": 847,
     "metadata": {},
     "output_type": "execute_result"
    }
   ],
   "source": [
    "page=requests.get('https://www.icc-cricket.com/rankings/mens/player-rankings/odi')\n",
    "page"
   ]
  },
  {
   "cell_type": "code",
   "execution_count": null,
   "id": "caedfcfc",
   "metadata": {},
   "outputs": [],
   "source": [
    "soup=BeautifulSoup(page.content)\n",
    "soup"
   ]
  },
  {
   "cell_type": "code",
   "execution_count": 849,
   "id": "8598a045",
   "metadata": {},
   "outputs": [
    {
     "data": {
      "text/plain": [
       "['1', '(0)', 'Babar', 'Azam', 'PAK', '891']"
      ]
     },
     "execution_count": 849,
     "metadata": {},
     "output_type": "execute_result"
    }
   ],
   "source": [
    "first_data=soup.find(\"div\",class_=\"rankings-block__top-player\")\n",
    "first_data.get_text(strip=True,separator=\" \").split(\" \")\n"
   ]
  },
  {
   "cell_type": "code",
   "execution_count": null,
   "id": "0c9868a4",
   "metadata": {},
   "outputs": [],
   "source": [
    "other_data=soup.find_all(\"tr\",class_=\"table-body\")\n",
    "other_data"
   ]
  },
  {
   "cell_type": "code",
   "execution_count": 851,
   "id": "647afe6a",
   "metadata": {},
   "outputs": [
    {
     "data": {
      "text/plain": [
       "['1 (0) Babar Azam PAK 891']"
      ]
     },
     "execution_count": 851,
     "metadata": {},
     "output_type": "execute_result"
    }
   ],
   "source": [
    "final_lst=[]\n",
    "final_lst.append(first_data.get_text(strip=True,separator=\" \").replace(\"This player has moved up in the rankings since the previous rankings update \",\"\"))\n",
    "final_lst"
   ]
  },
  {
   "cell_type": "code",
   "execution_count": 855,
   "id": "1ef01b3b",
   "metadata": {},
   "outputs": [
    {
     "data": {
      "text/plain": [
       "['1 (0) Babar Azam PAK 891',\n",
       " '2 (0) Virat Kohli IND 811',\n",
       " '3 (0) Imam-ul-Haq PAK 795',\n",
       " '4 (0) Rohit Sharma IND 791',\n",
       " '5 (0) Quinton de Kock SA 789',\n",
       " '6 (1) Jonny Bairstow ENG 775',\n",
       " '7 (1) This player has moved down in the rankings since the previous rankings update Ross Taylor NZ 775',\n",
       " '8 (0) Rassie van der Dussen SA 769',\n",
       " '9 (0) David Warner AUS 750',\n",
       " '10 (0) Aaron Finch AUS 745']"
      ]
     },
     "execution_count": 855,
     "metadata": {},
     "output_type": "execute_result"
    }
   ],
   "source": [
    "for i in other_data:\n",
    "    split_lst=i.get_text(strip=True,separator=\" \").replace(\"This player has moved up in the rankings since the previous rankings update \",\"\")\n",
    "    split_lst=split_lst.replace(\"This player has moved down in the rankings since the previous rankings update \",\"\")\n",
    "    final_lst.append(split_lst)\n",
    "final_lst[:10]"
   ]
  },
  {
   "cell_type": "markdown",
   "id": "45c3f2ac",
   "metadata": {},
   "source": [
    "c) Top 10 ODI bowlers along with the records of their team and rating."
   ]
  },
  {
   "cell_type": "code",
   "execution_count": 292,
   "id": "d28cee62",
   "metadata": {},
   "outputs": [
    {
     "data": {
      "text/plain": [
       "[['1', '(0)', 'Trent', 'Boult', 'NZ', '726']]"
      ]
     },
     "execution_count": 292,
     "metadata": {},
     "output_type": "execute_result"
    }
   ],
   "source": [
    "first_data_bowl=soup.find_all(\"div\",class_=\"rankings-block__top-player\")\n",
    "\n",
    "final_lst_bowl=[]\n",
    "\n",
    "k=0\n",
    "for i in first_data_bowl:\n",
    "    k=k+1\n",
    "    if k==2:\n",
    "        split_lst_bowl=i.get_text(strip=True,separator=\" \").split(\" \")\n",
    "        final_lst_bowl.append(split_lst_bowl)\n",
    "final_lst_bowl"
   ]
  },
  {
   "cell_type": "code",
   "execution_count": 293,
   "id": "c17c8b17",
   "metadata": {},
   "outputs": [
    {
     "data": {
      "text/plain": [
       "[['1', '(0)', 'Trent', 'Boult', 'NZ', '726'],\n",
       " ['2', '(0)', 'Chris', 'Woakes', 'ENG', '700'],\n",
       " ['3', '(0)', 'Josh', 'Hazlewood', 'AUS', '698'],\n",
       " ['4', '(0)', 'Matt', 'Henry', 'NZ', '683'],\n",
       " ['5', '(0)', 'Mujeeb', 'Ur', 'Rahman', 'AFG', '681'],\n",
       " ['6', '(0)', 'Jasprit', 'Bumrah', 'IND', '679'],\n",
       " ['7', '(0)', 'Shaheen', 'Afridi', 'PAK', '671'],\n",
       " ['8', '(0)', 'Mehedi', 'Hasan', 'BAN', '661'],\n",
       " ['9', '(0)', 'Shakib', 'Al', 'Hasan', 'BAN', '657'],\n",
       " ['10', '(0)', 'Rashid', 'Khan', 'AFG', '650']]"
      ]
     },
     "execution_count": 293,
     "metadata": {},
     "output_type": "execute_result"
    }
   ],
   "source": [
    "final_lst_bowl=final_lst_bowl+final_lst[10:19]\n",
    "final_lst_bowl"
   ]
  },
  {
   "cell_type": "markdown",
   "id": "975162b3",
   "metadata": {},
   "source": [
    "# 6) Write a python program to scrape cricket rankings from icc-cricket.com. You have to scrape:\n",
    "a) Top 10 ODI teams in women’s cricket along with the records for matches, points and rating.\n",
    "b) Top 10 women’s ODI Batting players along with the records of their team and rating.\n",
    "c) Top 10 women’s ODI all-rounder along with the records of their team and rating."
   ]
  },
  {
   "cell_type": "markdown",
   "id": "78779993",
   "metadata": {},
   "source": [
    "a) Top 10 ODI teams in women’s cricket along with the records for matches, points and rating. "
   ]
  },
  {
   "cell_type": "code",
   "execution_count": 856,
   "id": "4ea312b2",
   "metadata": {},
   "outputs": [
    {
     "data": {
      "text/plain": [
       "<Response [200]>"
      ]
     },
     "execution_count": 856,
     "metadata": {},
     "output_type": "execute_result"
    }
   ],
   "source": [
    "from bs4 import BeautifulSoup\n",
    "import requests\n",
    "\n",
    "page=requests.get('https://www.icc-cricket.com/rankings/womens/team-rankings/odi')\n",
    "page\n"
   ]
  },
  {
   "cell_type": "code",
   "execution_count": null,
   "id": "48c475e0",
   "metadata": {},
   "outputs": [],
   "source": [
    "soup=BeautifulSoup(page.content)\n",
    "soup"
   ]
  },
  {
   "cell_type": "code",
   "execution_count": 858,
   "id": "f32cb1e9",
   "metadata": {},
   "outputs": [
    {
     "data": {
      "text/plain": [
       "['1', 'Australia', 'AUS', '29', '4,840', '167']"
      ]
     },
     "execution_count": 858,
     "metadata": {},
     "output_type": "execute_result"
    }
   ],
   "source": [
    "First_Team_name=soup.find('tr',class_=\"rankings-block__banner\")\n",
    "First_Team_name.get_text(strip=True,separator=\" \").split(\" \")"
   ]
  },
  {
   "cell_type": "code",
   "execution_count": 859,
   "id": "cd7cee25",
   "metadata": {},
   "outputs": [
    {
     "data": {
      "text/plain": [
       "[['1', 'Australia', 'AUS', '29', '4,840', '167']]"
      ]
     },
     "execution_count": 859,
     "metadata": {},
     "output_type": "execute_result"
    }
   ],
   "source": [
    "final_Team_Wlst=[]\n",
    "final_Team_Wlst.append(First_Team_name.get_text(strip=True,separator=\" \").split(\" \"))\n",
    "final_Team_Wlst"
   ]
  },
  {
   "cell_type": "code",
   "execution_count": null,
   "id": "9e452cef",
   "metadata": {},
   "outputs": [],
   "source": [
    "Other_Team_name=soup.find_all('tr',class_=\"table-body\")\n",
    "Other_Team_name"
   ]
  },
  {
   "cell_type": "code",
   "execution_count": 861,
   "id": "cc642d80",
   "metadata": {},
   "outputs": [
    {
     "data": {
      "text/plain": [
       "[['1', 'Australia', 'AUS', '29', '4,840', '167'],\n",
       " ['2', 'South', 'Africa', 'SA', '28', '3,504', '125'],\n",
       " ['3', 'England', 'ENG', '30', '3,533', '118'],\n",
       " ['4', 'India', 'IND', '29', '2,878', '99'],\n",
       " ['5', 'New', 'Zealand', 'NZ', '31', '3,030', '98'],\n",
       " ['6', 'West', 'Indies', 'WI', '28', '2,481', '89'],\n",
       " ['7', 'Bangladesh', 'BAN', '12', '936', '78'],\n",
       " ['8', 'Pakistan', 'PAK', '26', '1,752', '67'],\n",
       " ['9', 'Ireland', 'IRE', '5', '240', '48'],\n",
       " ['10', 'Sri', 'Lanka', 'SL', '5', '233', '47']]"
      ]
     },
     "execution_count": 861,
     "metadata": {},
     "output_type": "execute_result"
    }
   ],
   "source": [
    "for i in Other_Team_name:\n",
    "    split_lst=i.get_text(strip=True,separator=\" \").split(\" \")\n",
    "    final_Team_Wlst.append(split_lst)\n",
    "final_Team_Wlst[:10]"
   ]
  },
  {
   "cell_type": "markdown",
   "id": "bc6f0e7d",
   "metadata": {},
   "source": [
    "b) Top 10 women’s ODI Batting players along with the records of their team and rating."
   ]
  },
  {
   "cell_type": "code",
   "execution_count": 862,
   "id": "8f7d7068",
   "metadata": {},
   "outputs": [
    {
     "data": {
      "text/plain": [
       "<Response [200]>"
      ]
     },
     "execution_count": 862,
     "metadata": {},
     "output_type": "execute_result"
    }
   ],
   "source": [
    "page=requests.get('https://www.icc-cricket.com/rankings/womens/player-rankings/odi')\n",
    "page"
   ]
  },
  {
   "cell_type": "code",
   "execution_count": null,
   "id": "f0fc2f1c",
   "metadata": {},
   "outputs": [],
   "source": [
    "soup=BeautifulSoup(page.content)\n",
    "soup"
   ]
  },
  {
   "cell_type": "code",
   "execution_count": 869,
   "id": "fb1eba30",
   "metadata": {},
   "outputs": [
    {
     "data": {
      "text/plain": [
       "'1 (3) Alyssa Healy AUS 785'"
      ]
     },
     "execution_count": 869,
     "metadata": {},
     "output_type": "execute_result"
    }
   ],
   "source": [
    "first_data=soup.find(\"div\",class_=\"rankings-block__top-player\")\n",
    "first_data.get_text(strip=True,separator=\" \").replace(\"This player has moved up in the rankings since the previous rankings update \",\"\")\n"
   ]
  },
  {
   "cell_type": "code",
   "execution_count": null,
   "id": "585b5663",
   "metadata": {},
   "outputs": [],
   "source": [
    "other_data=soup.find_all(\"tr\",class_=\"table-body\")\n",
    "other_data"
   ]
  },
  {
   "cell_type": "code",
   "execution_count": 871,
   "id": "8f2b051c",
   "metadata": {},
   "outputs": [
    {
     "data": {
      "text/plain": [
       "['1 (3) Alyssa Healy AUS 785']"
      ]
     },
     "execution_count": 871,
     "metadata": {},
     "output_type": "execute_result"
    }
   ],
   "source": [
    "final_lst=[]\n",
    "final_lst.append(first_data.get_text(strip=True,separator=\" \").replace(\"This player has moved up in the rankings since the previous rankings update \",\"\"))\n",
    "final_lst"
   ]
  },
  {
   "cell_type": "code",
   "execution_count": 877,
   "id": "b3253e28",
   "metadata": {},
   "outputs": [
    {
     "data": {
      "text/plain": [
       "['1 (3) Alyssa Healy AUS 785',\n",
       " '2 (3) Natalie Sciver ENG 750',\n",
       " '3 (2) This player has moved down in the rankings since the previous rankings update Beth Mooney AUS 748',\n",
       " '4 (2) This player has moved down in the rankings since the previous rankings update Laura Wolvaardt SA 722',\n",
       " '5 (2) This player has moved down in the rankings since the previous rankings update Meg Lanning AUS 710',\n",
       " '6 (0) Rachael Haynes AUS 701',\n",
       " '7 (0) Mithali Raj IND 686',\n",
       " '8 (0) Amy Satterthwaite NZ 681',\n",
       " '9 (0) Smriti Mandhana IND 669',\n",
       " '10 (0) Tammy Beaumont ENG 659']"
      ]
     },
     "execution_count": 877,
     "metadata": {},
     "output_type": "execute_result"
    }
   ],
   "source": [
    "for i in other_data:\n",
    "    split_lst=i.get_text(strip=True,separator=\" \").replace(\"This player has moved down in the rankings since the previous rankings update\",\"\")\n",
    "    final_lst.append(split_lst)\n",
    "final_lst[:10]\n"
   ]
  },
  {
   "cell_type": "markdown",
   "id": "6aebf0ab",
   "metadata": {},
   "source": [
    "c) Top 10 women’s ODI all-rounder along with the records of their team and rating."
   ]
  },
  {
   "cell_type": "code",
   "execution_count": 830,
   "id": "a8e3731c",
   "metadata": {},
   "outputs": [
    {
     "data": {
      "text/plain": [
       "['1 (1) Natalie Sciver ENG 393']"
      ]
     },
     "execution_count": 830,
     "metadata": {},
     "output_type": "execute_result"
    }
   ],
   "source": [
    "first_data_all=soup.find_all(\"div\",class_=\"rankings-block__top-player\")\n",
    "\n",
    "final_lst_all=[]\n",
    "\n",
    "k=0\n",
    "for i in first_data_all:\n",
    "    k=k+1\n",
    "    if k==3:\n",
    "        split_lst_all=i.get_text(strip=True,separator=\" \").replace(\"This player has moved up in the rankings since the previous rankings update \",\"\")\n",
    "\n",
    "        final_lst_all.append(split_lst_all)\n",
    "final_lst_all"
   ]
  },
  {
   "cell_type": "code",
   "execution_count": 831,
   "id": "bdd661e7",
   "metadata": {},
   "outputs": [
    {
     "data": {
      "text/plain": [
       "['1 (1) Natalie Sciver ENG 393',\n",
       " '2 (1) This player has moved down in the rankings since the previous rankings update Ellyse Perry AUS 374',\n",
       " '3 (0) Marizanne Kapp SA 359',\n",
       " '4 (0) Hayley Matthews WI 338',\n",
       " '5 (0) Amelia Kerr NZ 335',\n",
       " '6 (0) Ashleigh Gardner AUS 269',\n",
       " '7 (0) Deepti Sharma IND 249',\n",
       " '8 (0) Jess Jonassen AUS 245',\n",
       " '9 (0) Katherine Brunt ENG 221',\n",
       " '10 Jhulan Goswami IND 217']"
      ]
     },
     "execution_count": 831,
     "metadata": {},
     "output_type": "execute_result"
    }
   ],
   "source": [
    "final_lst_all=final_lst_all+final_lst[19:28]\n",
    "final_lst_all"
   ]
  },
  {
   "cell_type": "markdown",
   "id": "b07f3199",
   "metadata": {},
   "source": [
    "# 7) Write a python program to scrape details of all the posts from coreyms.com. Scrape the heading, date, content and the code for the video from the link for the youtube video from the post.\n"
   ]
  },
  {
   "cell_type": "code",
   "execution_count": 921,
   "id": "06426f55",
   "metadata": {},
   "outputs": [
    {
     "data": {
      "text/plain": [
       "<Response [200]>"
      ]
     },
     "execution_count": 921,
     "metadata": {},
     "output_type": "execute_result"
    }
   ],
   "source": [
    "from bs4 import BeautifulSoup\n",
    "import requests\n",
    "page=requests.get('https://coreyms.com/')\n",
    "page\n"
   ]
  },
  {
   "cell_type": "code",
   "execution_count": null,
   "id": "26ccadf8",
   "metadata": {},
   "outputs": [],
   "source": [
    "soup=BeautifulSoup(page.content)\n",
    "soup"
   ]
  },
  {
   "cell_type": "code",
   "execution_count": null,
   "id": "ad1a893a",
   "metadata": {},
   "outputs": [],
   "source": [
    "heading=[]\n",
    "\n",
    "for i in soup.find_all('h2',class_='entry-title'):\n",
    "    heading.append(i.text)\n",
    "    \n",
    "heading"
   ]
  },
  {
   "cell_type": "code",
   "execution_count": null,
   "id": "d921859f",
   "metadata": {},
   "outputs": [],
   "source": [
    "date=[]\n",
    "\n",
    "for i in soup.find_all('time',class_='entry-time'):\n",
    "    date.append(i.text)\n",
    "    \n",
    "date"
   ]
  },
  {
   "cell_type": "code",
   "execution_count": null,
   "id": "6f62ac9b",
   "metadata": {},
   "outputs": [],
   "source": [
    "content=[]\n",
    "\n",
    "for i in soup.find_all('div',class_='entry-content'):\n",
    "    content.append(i.text)\n",
    "    \n",
    "content"
   ]
  },
  {
   "cell_type": "code",
   "execution_count": null,
   "id": "33fa40c8",
   "metadata": {},
   "outputs": [],
   "source": [
    "video_link=[]\n",
    "\n",
    "\n",
    "for i in soup.find_all('iframe',class_='youtube-player'):\n",
    "    link=i['src']\n",
    "    if link == None:\n",
    "        link='None'   \n",
    "    \n",
    "    video_link.append(link)    \n",
    "\n",
    "video_link.insert(4, '-') \n",
    "video_link"
   ]
  },
  {
   "cell_type": "code",
   "execution_count": null,
   "id": "5fd4dd93",
   "metadata": {},
   "outputs": [],
   "source": [
    "video_link"
   ]
  },
  {
   "cell_type": "code",
   "execution_count": 941,
   "id": "0f755902",
   "metadata": {},
   "outputs": [
    {
     "data": {
      "text/html": [
       "<div>\n",
       "<style scoped>\n",
       "    .dataframe tbody tr th:only-of-type {\n",
       "        vertical-align: middle;\n",
       "    }\n",
       "\n",
       "    .dataframe tbody tr th {\n",
       "        vertical-align: top;\n",
       "    }\n",
       "\n",
       "    .dataframe thead th {\n",
       "        text-align: right;\n",
       "    }\n",
       "</style>\n",
       "<table border=\"1\" class=\"dataframe\">\n",
       "  <thead>\n",
       "    <tr style=\"text-align: right;\">\n",
       "      <th></th>\n",
       "      <th>Heading</th>\n",
       "      <th>Date</th>\n",
       "      <th>Content</th>\n",
       "      <th>Video Link</th>\n",
       "    </tr>\n",
       "  </thead>\n",
       "  <tbody>\n",
       "    <tr>\n",
       "      <th>0</th>\n",
       "      <td>Python Tutorial: Zip Files – Creating and Extr...</td>\n",
       "      <td>November 19, 2019</td>\n",
       "      <td>\\nIn this video, we will be learning how to cr...</td>\n",
       "      <td>https://www.youtube.com/embed/z0gguhEmWiY?vers...</td>\n",
       "    </tr>\n",
       "    <tr>\n",
       "      <th>1</th>\n",
       "      <td>Python Data Science Tutorial: Analyzing the 20...</td>\n",
       "      <td>October 17, 2019</td>\n",
       "      <td>\\nIn this Python Programming video, we will be...</td>\n",
       "      <td>https://www.youtube.com/embed/_P7X8tMplsw?vers...</td>\n",
       "    </tr>\n",
       "    <tr>\n",
       "      <th>2</th>\n",
       "      <td>Python Multiprocessing Tutorial: Run Code in P...</td>\n",
       "      <td>September 21, 2019</td>\n",
       "      <td>\\nIn this Python Programming video, we will be...</td>\n",
       "      <td>https://www.youtube.com/embed/fKl2JW_qrso?vers...</td>\n",
       "    </tr>\n",
       "    <tr>\n",
       "      <th>3</th>\n",
       "      <td>Python Threading Tutorial: Run Code Concurrent...</td>\n",
       "      <td>September 12, 2019</td>\n",
       "      <td>\\nIn this Python Programming video, we will be...</td>\n",
       "      <td>https://www.youtube.com/embed/IEEhzQoKtQU?vers...</td>\n",
       "    </tr>\n",
       "    <tr>\n",
       "      <th>4</th>\n",
       "      <td>Update (2019-09-03)</td>\n",
       "      <td>September 3, 2019</td>\n",
       "      <td>\\nHey everyone. I wanted to give you an update...</td>\n",
       "      <td>-</td>\n",
       "    </tr>\n",
       "    <tr>\n",
       "      <th>5</th>\n",
       "      <td>Python Quick Tip: The Difference Between “==” ...</td>\n",
       "      <td>August 6, 2019</td>\n",
       "      <td>\\nIn this Python Programming Tutorial, we will...</td>\n",
       "      <td>https://www.youtube.com/embed/mO_dS3rXDIs?vers...</td>\n",
       "    </tr>\n",
       "    <tr>\n",
       "      <th>6</th>\n",
       "      <td>Python Tutorial: Calling External Commands Usi...</td>\n",
       "      <td>July 24, 2019</td>\n",
       "      <td>\\nIn this Python Programming Tutorial, we will...</td>\n",
       "      <td>https://www.youtube.com/embed/2Fp1N6dof0Y?vers...</td>\n",
       "    </tr>\n",
       "    <tr>\n",
       "      <th>7</th>\n",
       "      <td>Visual Studio Code (Windows) – Setting up a Py...</td>\n",
       "      <td>May 1, 2019</td>\n",
       "      <td>\\nIn this Python Programming Tutorial, we will...</td>\n",
       "      <td>https://www.youtube.com/embed/-nh9rCzPJ20?vers...</td>\n",
       "    </tr>\n",
       "    <tr>\n",
       "      <th>8</th>\n",
       "      <td>Visual Studio Code (Mac) – Setting up a Python...</td>\n",
       "      <td>May 1, 2019</td>\n",
       "      <td>\\nIn this Python Programming Tutorial, we will...</td>\n",
       "      <td>https://www.youtube.com/embed/06I63_p-2A4?vers...</td>\n",
       "    </tr>\n",
       "    <tr>\n",
       "      <th>9</th>\n",
       "      <td>Clarifying the Issues with Mutable Default Arg...</td>\n",
       "      <td>April 24, 2019</td>\n",
       "      <td>\\nIn this Python Programming Tutorial, we will...</td>\n",
       "      <td>https://www.youtube.com/embed/_JGmemuINww?vers...</td>\n",
       "    </tr>\n",
       "  </tbody>\n",
       "</table>\n",
       "</div>"
      ],
      "text/plain": [
       "                                             Heading                Date  \\\n",
       "0  Python Tutorial: Zip Files – Creating and Extr...   November 19, 2019   \n",
       "1  Python Data Science Tutorial: Analyzing the 20...    October 17, 2019   \n",
       "2  Python Multiprocessing Tutorial: Run Code in P...  September 21, 2019   \n",
       "3  Python Threading Tutorial: Run Code Concurrent...  September 12, 2019   \n",
       "4                                Update (2019-09-03)   September 3, 2019   \n",
       "5  Python Quick Tip: The Difference Between “==” ...      August 6, 2019   \n",
       "6  Python Tutorial: Calling External Commands Usi...       July 24, 2019   \n",
       "7  Visual Studio Code (Windows) – Setting up a Py...         May 1, 2019   \n",
       "8  Visual Studio Code (Mac) – Setting up a Python...         May 1, 2019   \n",
       "9  Clarifying the Issues with Mutable Default Arg...      April 24, 2019   \n",
       "\n",
       "                                             Content  \\\n",
       "0  \\nIn this video, we will be learning how to cr...   \n",
       "1  \\nIn this Python Programming video, we will be...   \n",
       "2  \\nIn this Python Programming video, we will be...   \n",
       "3  \\nIn this Python Programming video, we will be...   \n",
       "4  \\nHey everyone. I wanted to give you an update...   \n",
       "5  \\nIn this Python Programming Tutorial, we will...   \n",
       "6  \\nIn this Python Programming Tutorial, we will...   \n",
       "7  \\nIn this Python Programming Tutorial, we will...   \n",
       "8  \\nIn this Python Programming Tutorial, we will...   \n",
       "9  \\nIn this Python Programming Tutorial, we will...   \n",
       "\n",
       "                                          Video Link  \n",
       "0  https://www.youtube.com/embed/z0gguhEmWiY?vers...  \n",
       "1  https://www.youtube.com/embed/_P7X8tMplsw?vers...  \n",
       "2  https://www.youtube.com/embed/fKl2JW_qrso?vers...  \n",
       "3  https://www.youtube.com/embed/IEEhzQoKtQU?vers...  \n",
       "4                                                  -  \n",
       "5  https://www.youtube.com/embed/mO_dS3rXDIs?vers...  \n",
       "6  https://www.youtube.com/embed/2Fp1N6dof0Y?vers...  \n",
       "7  https://www.youtube.com/embed/-nh9rCzPJ20?vers...  \n",
       "8  https://www.youtube.com/embed/06I63_p-2A4?vers...  \n",
       "9  https://www.youtube.com/embed/_JGmemuINww?vers...  "
      ]
     },
     "execution_count": 941,
     "metadata": {},
     "output_type": "execute_result"
    }
   ],
   "source": [
    "import pandas as pd\n",
    "Data=pd.DataFrame()\n",
    "\n",
    "Data['Heading']=heading\n",
    "Data['Date']=date\n",
    "Data['Content']=content\n",
    "Data['Video Link']=video_link\n",
    "\n",
    "Data"
   ]
  },
  {
   "cell_type": "markdown",
   "id": "f4c49fb3",
   "metadata": {},
   "source": [
    "# 8) Write a python program to scrape house details from mentioned URL. It should include house title, location,area, EMI and price from https://www.nobroker.in/ .Enter three localities which are Indira Nagar, Jayanagar, Rajaji Nagar."
   ]
  },
  {
   "cell_type": "code",
   "execution_count": 755,
   "id": "a2b28e1d",
   "metadata": {},
   "outputs": [],
   "source": [
    "from bs4 import BeautifulSoup\n",
    "import requests"
   ]
  },
  {
   "cell_type": "code",
   "execution_count": 756,
   "id": "80ba459b",
   "metadata": {},
   "outputs": [
    {
     "data": {
      "text/plain": [
       "<Response [200]>"
      ]
     },
     "execution_count": 756,
     "metadata": {},
     "output_type": "execute_result"
    }
   ],
   "source": [
    "page=requests.get('https://www.nobroker.in/property/sale/bangalore/multiple?searchParam=W3sibGF0IjoxMi45OTgxNzMyLCJsb24iOjc3LjU1MzA0NDU5OTk5OTk5LCJwbGFjZUlkIjoiQ2hJSnhmVzREUE05cmpzUktzTlRHLTVwX1FRIiwicGxhY2VOYW1lIjoiUmFqYWppbmFnYXIifSx7ImxhdCI6MTIuOTc4MzY5MiwibG9uIjo3Ny42NDA4MzU2LCJwbGFjZUlkIjoiQ2hJSmtRTjNHS1FXcmpzUk5oQlFKcmhHRDdVIiwicGxhY2VOYW1lIjoiSW5kaXJhbmFnYXIifSx7ImxhdCI6MTIuOTMwNzczNSwibG9uIjo3Ny41ODM4MzAyLCJwbGFjZUlkIjoiQ2hJSjJkZGxaNWdWcmpzUmgxQk9BYWYtb3JzIiwicGxhY2VOYW1lIjoiSmF5YW5hZ2FyIn1d&radius=2.0&city=bangalore&locality=Rajajinagar,&locality=Indiranagar,&locality=Jayanagar')\n",
    "page"
   ]
  },
  {
   "cell_type": "code",
   "execution_count": null,
   "id": "d34ac20e",
   "metadata": {},
   "outputs": [],
   "source": [
    "soup=BeautifulSoup(page.content)\n",
    "soup"
   ]
  },
  {
   "cell_type": "code",
   "execution_count": null,
   "id": "208eeb56",
   "metadata": {},
   "outputs": [],
   "source": [
    "house_title=[]\n",
    "\n",
    "for i in soup.find_all('span',class_=\"overflow-hidden overflow-ellipsis whitespace-nowrap max-w-80pe po:max-w-full\"):\n",
    "    house_title.append(i.text)\n",
    "    \n",
    "house_title"
   ]
  },
  {
   "cell_type": "code",
   "execution_count": null,
   "id": "b48aa548",
   "metadata": {},
   "outputs": [],
   "source": [
    "house_loc=[]\n",
    "\n",
    "for i in soup.find_all('div',class_=\"mt-0.5p overflow-hidden overflow-ellipsis whitespace-nowrap max-w-70 text-gray-light leading-4 po:mb-0 po:max-w-95\"):\n",
    "    house_loc.append(i.text.replace(\"Independent House, \",\"\"))\n",
    "    \n",
    "house_loc"
   ]
  },
  {
   "cell_type": "code",
   "execution_count": null,
   "id": "487eb6c3",
   "metadata": {},
   "outputs": [],
   "source": [
    "import pandas as pd\n",
    "house_area=[]\n",
    "area=[]\n",
    "\n",
    "\n",
    "for i in soup.find_all('span',class_=\"overflow-hidden overflow-ellipsis whitespace-nowrap max-w-80pe po:max-w-full\"):\n",
    "    area.append(i.get_text(strip=True,separator=\" \").split(\"For Sale  In \"))\n",
    " \n",
    "\n",
    "house_area = [i[1] for i in area]  \n",
    "house_area\n"
   ]
  },
  {
   "cell_type": "code",
   "execution_count": null,
   "id": "28e1dcfa",
   "metadata": {},
   "outputs": [],
   "source": [
    "house_emi=[]\n",
    "\n",
    "for i in soup.find_all('div',class_=\"font-semi-bold heading-6\"):\n",
    "\n",
    "        house_emi.append(i.text)\n",
    "\n",
    "house_emi[1::3]"
   ]
  },
  {
   "cell_type": "code",
   "execution_count": null,
   "id": "5e03281f",
   "metadata": {},
   "outputs": [],
   "source": [
    "house_prc=[]\n",
    "\n",
    "for i in soup.find_all('div',class_=\"font-semi-bold heading-6\"):\n",
    "\n",
    "        house_prc.append(i.text)\n",
    "\n",
    "house_prc[2::3]"
   ]
  },
  {
   "cell_type": "code",
   "execution_count": 782,
   "id": "a28a22d2",
   "metadata": {},
   "outputs": [
    {
     "data": {
      "text/html": [
       "<div>\n",
       "<style scoped>\n",
       "    .dataframe tbody tr th:only-of-type {\n",
       "        vertical-align: middle;\n",
       "    }\n",
       "\n",
       "    .dataframe tbody tr th {\n",
       "        vertical-align: top;\n",
       "    }\n",
       "\n",
       "    .dataframe thead th {\n",
       "        text-align: right;\n",
       "    }\n",
       "</style>\n",
       "<table border=\"1\" class=\"dataframe\">\n",
       "  <thead>\n",
       "    <tr style=\"text-align: right;\">\n",
       "      <th></th>\n",
       "      <th>Title</th>\n",
       "      <th>Location</th>\n",
       "      <th>Area</th>\n",
       "      <th>EMI</th>\n",
       "      <th>Price</th>\n",
       "    </tr>\n",
       "  </thead>\n",
       "  <tbody>\n",
       "    <tr>\n",
       "      <th>0</th>\n",
       "      <td>4+ BHK In Independent House  For Sale  In Raja...</td>\n",
       "      <td>5th Block, near National Public School RNR</td>\n",
       "      <td>Rajajinagar</td>\n",
       "      <td>₹1.86 Lacs/Month</td>\n",
       "      <td>₹3.25 Crores</td>\n",
       "    </tr>\n",
       "    <tr>\n",
       "      <th>1</th>\n",
       "      <td>4 BHK In Independent House  For Sale  In Jayan...</td>\n",
       "      <td>Jayanagar SBI Branch 9th blk, 4th T Blk CafÃ© ...</td>\n",
       "      <td>Jayanagar 4th 't' Block</td>\n",
       "      <td>₹1.55 Lacs/Month</td>\n",
       "      <td>₹2.7 Crores</td>\n",
       "    </tr>\n",
       "    <tr>\n",
       "      <th>2</th>\n",
       "      <td>3 BHK Flat  For Sale  In Shree Rameshwara Nila...</td>\n",
       "      <td>manjunath road near The illusion Cafe</td>\n",
       "      <td>Shree Rameshwara Nilaya In Rajaji Nagar</td>\n",
       "      <td>₹63,045/Month</td>\n",
       "      <td>₹1.1 Crores</td>\n",
       "    </tr>\n",
       "    <tr>\n",
       "      <th>3</th>\n",
       "      <td>3 BHK Apartment  For Sale  In Laa Royal Manor ...</td>\n",
       "      <td>Laa Royal Manor  11th Cross Rd, 8th cross, HAL...</td>\n",
       "      <td>Laa Royal Manor In Indiranagar</td>\n",
       "      <td>₹1.58 Lacs/Month</td>\n",
       "      <td>₹2.75 Crores</td>\n",
       "    </tr>\n",
       "    <tr>\n",
       "      <th>4</th>\n",
       "      <td>2 BHK Flat  For Sale  In Pallava Terrace In Ja...</td>\n",
       "      <td>17, Pallava Terrace, North Main Road, 6th Bloc...</td>\n",
       "      <td>Pallava Terrace In Jayanagar</td>\n",
       "      <td>₹42,985/Month</td>\n",
       "      <td>₹75 Lacs</td>\n",
       "    </tr>\n",
       "    <tr>\n",
       "      <th>5</th>\n",
       "      <td>4+ BHK In Independent House  For Sale  In Raja...</td>\n",
       "      <td>6th C cross 3rd main rd near Ayyappa Temple</td>\n",
       "      <td>Rajaji Nagar</td>\n",
       "      <td>₹77,374/Month</td>\n",
       "      <td>₹1.35 Crores</td>\n",
       "    </tr>\n",
       "    <tr>\n",
       "      <th>6</th>\n",
       "      <td>4+ BHK In Independent House  For Sale  In Raja...</td>\n",
       "      <td>6th Cross road,9th main road  Prakash Nagar, ...</td>\n",
       "      <td>Rajaji Nagar</td>\n",
       "      <td>₹63,045/Month</td>\n",
       "      <td>₹1.1 Crores</td>\n",
       "    </tr>\n",
       "    <tr>\n",
       "      <th>7</th>\n",
       "      <td>3 BHK Apartment  For Sale  In Admiralty Manor,...</td>\n",
       "      <td>Admiralty Manor, Indiranagar  Admiralty Manor,...</td>\n",
       "      <td>Admiralty Manor, Indiranagar In Indiranagar</td>\n",
       "      <td>₹85,971/Month</td>\n",
       "      <td>₹1.5 Crores</td>\n",
       "    </tr>\n",
       "    <tr>\n",
       "      <th>8</th>\n",
       "      <td>2 BHK Apartment  For Sale  In Jains Prakriti I...</td>\n",
       "      <td>Jains Prakriti   Kanakapura Rd, 7th Block West...</td>\n",
       "      <td>Jains Prakriti In Jayanagar</td>\n",
       "      <td>₹1.15 Lacs/Month</td>\n",
       "      <td>₹2 Crores</td>\n",
       "    </tr>\n",
       "    <tr>\n",
       "      <th>9</th>\n",
       "      <td>3 BHK Flat  For Sale  In Benaka Apartments In ...</td>\n",
       "      <td>16th D main, HAL 2nd stage, Indiranagar ,  Ben...</td>\n",
       "      <td>Benaka Apartments In Hal 2nd Stage, Indiranagar</td>\n",
       "      <td>₹48,717/Month</td>\n",
       "      <td>₹85 Lacs</td>\n",
       "    </tr>\n",
       "    <tr>\n",
       "      <th>10</th>\n",
       "      <td>4 BHK In Independent House  For Sale  In Indir...</td>\n",
       "      <td>2nd stage ,9th cross</td>\n",
       "      <td>Indira Nagar</td>\n",
       "      <td>₹1.69 Lacs/Month</td>\n",
       "      <td>₹2.95 Crores</td>\n",
       "    </tr>\n",
       "    <tr>\n",
       "      <th>11</th>\n",
       "      <td>2 BHK Apartment  For Sale  In Blueberry Apartm...</td>\n",
       "      <td>Blueberry Apartment  13th E Main Rd, Channakes...</td>\n",
       "      <td>Blueberry Apartment In Indiranagar</td>\n",
       "      <td>₹87,691/Month</td>\n",
       "      <td>₹1.53 Crores</td>\n",
       "    </tr>\n",
       "    <tr>\n",
       "      <th>12</th>\n",
       "      <td>4+ BHK In Independent House  For Sale  In Laks...</td>\n",
       "      <td>CMH Rd , Near B P Bakery</td>\n",
       "      <td>Lakshmipuram Indrinagar</td>\n",
       "      <td>₹63,045/Month</td>\n",
       "      <td>₹1.1 Crores</td>\n",
       "    </tr>\n",
       "    <tr>\n",
       "      <th>13</th>\n",
       "      <td>2 BHK Apartment  For Sale  In Tarang Parkway A...</td>\n",
       "      <td>Tarang Parkway Apartment  2nd Main Rd, Shivana...</td>\n",
       "      <td>Tarang Parkway Apartment In Basaveshwar Nagar</td>\n",
       "      <td>₹57,314/Month</td>\n",
       "      <td>₹1 Crore</td>\n",
       "    </tr>\n",
       "    <tr>\n",
       "      <th>14</th>\n",
       "      <td>3 BHK Apartment  For Sale  In Brigade Gateway ...</td>\n",
       "      <td>Brigade Gateway  Dr Rajkumar Road, Rajaji Naga...</td>\n",
       "      <td>Brigade Gateway In Rajaji Nagar</td>\n",
       "      <td>₹1.5 Lacs/Month</td>\n",
       "      <td>₹2.62 Crores</td>\n",
       "    </tr>\n",
       "    <tr>\n",
       "      <th>15</th>\n",
       "      <td>2 BHK Flat  For Sale  In Jains Prakruti, Jayan...</td>\n",
       "      <td>Kanakapura Road, Jayanagar, Bangalore, Karnata...</td>\n",
       "      <td>Jains Prakruti, Jayanagar In Jayanagar 7th Block</td>\n",
       "      <td>₹85,971/Month</td>\n",
       "      <td>₹1.5 Crores</td>\n",
       "    </tr>\n",
       "    <tr>\n",
       "      <th>16</th>\n",
       "      <td>4+ BHK In Independent House  For Sale  In Raja...</td>\n",
       "      <td>6th Cross Rd, 2nd Block  near  SMC Enclave</td>\n",
       "      <td>Rajajinagar</td>\n",
       "      <td>₹83,679/Month</td>\n",
       "      <td>₹1.46 Crores</td>\n",
       "    </tr>\n",
       "    <tr>\n",
       "      <th>17</th>\n",
       "      <td>3 BHK Flat  For Sale  In Rajaji Nagar</td>\n",
       "      <td>242, 27th cross, 2nd Block, Rajajinagar, Banga...</td>\n",
       "      <td>Rajaji Nagar</td>\n",
       "      <td>₹77,374/Month</td>\n",
       "      <td>₹1.35 Crores</td>\n",
       "    </tr>\n",
       "    <tr>\n",
       "      <th>18</th>\n",
       "      <td>3 BHK Apartment  For Sale  In Adarsh Court Apa...</td>\n",
       "      <td>Adarsh Court Apartment  Adarsh Court Apartment...</td>\n",
       "      <td>Adarsh Court Apartment In Jayanagar</td>\n",
       "      <td>₹1.86 Lacs/Month</td>\n",
       "      <td>₹3.25 Crores</td>\n",
       "    </tr>\n",
       "    <tr>\n",
       "      <th>19</th>\n",
       "      <td>3 BHK Apartment  For Sale  In Parasmani Regenc...</td>\n",
       "      <td>Parasmani Regency  Parasmani Regency, 8th Cros...</td>\n",
       "      <td>Parasmani Regency In Jayanagar</td>\n",
       "      <td>₹1.43 Lacs/Month</td>\n",
       "      <td>₹2.5 Crores</td>\n",
       "    </tr>\n",
       "    <tr>\n",
       "      <th>20</th>\n",
       "      <td>2 BHK Flat  For Sale  In Kumar Ashraya Apartme...</td>\n",
       "      <td>Kumar Ashraya Apartments 194, 9th Cross Rd 2n...</td>\n",
       "      <td>Kumar Ashraya Apartments In Jayanagar</td>\n",
       "      <td>₹37,827/Month</td>\n",
       "      <td>₹66 Lacs</td>\n",
       "    </tr>\n",
       "    <tr>\n",
       "      <th>21</th>\n",
       "      <td>3 BHK Apartment  For Sale  In Mayitri Enclave ...</td>\n",
       "      <td>Mayitri Enclave  Mayitri Enclave, 39th C, 5T B...</td>\n",
       "      <td>Mayitri Enclave In Jayanagar</td>\n",
       "      <td>₹44,705/Month</td>\n",
       "      <td>₹78 Lacs</td>\n",
       "    </tr>\n",
       "    <tr>\n",
       "      <th>22</th>\n",
       "      <td>2 BHK Flat  For Sale  In Jayanagar Residency I...</td>\n",
       "      <td>Jayanagar Residency, K V Layout, LIC Colony, J...</td>\n",
       "      <td>Jayanagar Residency In Jayanagar</td>\n",
       "      <td>₹57,314/Month</td>\n",
       "      <td>₹1 Crore</td>\n",
       "    </tr>\n",
       "    <tr>\n",
       "      <th>23</th>\n",
       "      <td>4 BHK Flat  For Sale  In Rrbc Piccassso In Jay...</td>\n",
       "      <td>Municipal No.152, 18th main road, beside Sai B...</td>\n",
       "      <td>Rrbc Piccassso In Jayanagar</td>\n",
       "      <td>₹3.91 Lacs/Month</td>\n",
       "      <td>₹6.83 Crores</td>\n",
       "    </tr>\n",
       "    <tr>\n",
       "      <th>24</th>\n",
       "      <td>4 BHK Flat  For Sale  In Phoenix  One Bangalor...</td>\n",
       "      <td>Dr Rajkumar Rd, opposite Sheraton Hotel, Rajaj...</td>\n",
       "      <td>Phoenix  One Bangalore West In Rajajinagar</td>\n",
       "      <td>₹2.72 Lacs/Month</td>\n",
       "      <td>₹4.75 Crores</td>\n",
       "    </tr>\n",
       "  </tbody>\n",
       "</table>\n",
       "</div>"
      ],
      "text/plain": [
       "                                                Title  \\\n",
       "0   4+ BHK In Independent House  For Sale  In Raja...   \n",
       "1   4 BHK In Independent House  For Sale  In Jayan...   \n",
       "2   3 BHK Flat  For Sale  In Shree Rameshwara Nila...   \n",
       "3   3 BHK Apartment  For Sale  In Laa Royal Manor ...   \n",
       "4   2 BHK Flat  For Sale  In Pallava Terrace In Ja...   \n",
       "5   4+ BHK In Independent House  For Sale  In Raja...   \n",
       "6   4+ BHK In Independent House  For Sale  In Raja...   \n",
       "7   3 BHK Apartment  For Sale  In Admiralty Manor,...   \n",
       "8   2 BHK Apartment  For Sale  In Jains Prakriti I...   \n",
       "9   3 BHK Flat  For Sale  In Benaka Apartments In ...   \n",
       "10  4 BHK In Independent House  For Sale  In Indir...   \n",
       "11  2 BHK Apartment  For Sale  In Blueberry Apartm...   \n",
       "12  4+ BHK In Independent House  For Sale  In Laks...   \n",
       "13  2 BHK Apartment  For Sale  In Tarang Parkway A...   \n",
       "14  3 BHK Apartment  For Sale  In Brigade Gateway ...   \n",
       "15  2 BHK Flat  For Sale  In Jains Prakruti, Jayan...   \n",
       "16  4+ BHK In Independent House  For Sale  In Raja...   \n",
       "17              3 BHK Flat  For Sale  In Rajaji Nagar   \n",
       "18  3 BHK Apartment  For Sale  In Adarsh Court Apa...   \n",
       "19  3 BHK Apartment  For Sale  In Parasmani Regenc...   \n",
       "20  2 BHK Flat  For Sale  In Kumar Ashraya Apartme...   \n",
       "21  3 BHK Apartment  For Sale  In Mayitri Enclave ...   \n",
       "22  2 BHK Flat  For Sale  In Jayanagar Residency I...   \n",
       "23  4 BHK Flat  For Sale  In Rrbc Piccassso In Jay...   \n",
       "24  4 BHK Flat  For Sale  In Phoenix  One Bangalor...   \n",
       "\n",
       "                                             Location  \\\n",
       "0          5th Block, near National Public School RNR   \n",
       "1   Jayanagar SBI Branch 9th blk, 4th T Blk CafÃ© ...   \n",
       "2               manjunath road near The illusion Cafe   \n",
       "3   Laa Royal Manor  11th Cross Rd, 8th cross, HAL...   \n",
       "4   17, Pallava Terrace, North Main Road, 6th Bloc...   \n",
       "5         6th C cross 3rd main rd near Ayyappa Temple   \n",
       "6    6th Cross road,9th main road  Prakash Nagar, ...   \n",
       "7   Admiralty Manor, Indiranagar  Admiralty Manor,...   \n",
       "8   Jains Prakriti   Kanakapura Rd, 7th Block West...   \n",
       "9   16th D main, HAL 2nd stage, Indiranagar ,  Ben...   \n",
       "10                               2nd stage ,9th cross   \n",
       "11  Blueberry Apartment  13th E Main Rd, Channakes...   \n",
       "12                           CMH Rd , Near B P Bakery   \n",
       "13  Tarang Parkway Apartment  2nd Main Rd, Shivana...   \n",
       "14  Brigade Gateway  Dr Rajkumar Road, Rajaji Naga...   \n",
       "15  Kanakapura Road, Jayanagar, Bangalore, Karnata...   \n",
       "16        6th Cross Rd, 2nd Block  near  SMC Enclave    \n",
       "17  242, 27th cross, 2nd Block, Rajajinagar, Banga...   \n",
       "18  Adarsh Court Apartment  Adarsh Court Apartment...   \n",
       "19  Parasmani Regency  Parasmani Regency, 8th Cros...   \n",
       "20   Kumar Ashraya Apartments 194, 9th Cross Rd 2n...   \n",
       "21  Mayitri Enclave  Mayitri Enclave, 39th C, 5T B...   \n",
       "22  Jayanagar Residency, K V Layout, LIC Colony, J...   \n",
       "23  Municipal No.152, 18th main road, beside Sai B...   \n",
       "24  Dr Rajkumar Rd, opposite Sheraton Hotel, Rajaj...   \n",
       "\n",
       "                                                Area               EMI  \\\n",
       "0                                        Rajajinagar  ₹1.86 Lacs/Month   \n",
       "1                            Jayanagar 4th 't' Block  ₹1.55 Lacs/Month   \n",
       "2            Shree Rameshwara Nilaya In Rajaji Nagar     ₹63,045/Month   \n",
       "3                     Laa Royal Manor In Indiranagar  ₹1.58 Lacs/Month   \n",
       "4                       Pallava Terrace In Jayanagar     ₹42,985/Month   \n",
       "5                                       Rajaji Nagar     ₹77,374/Month   \n",
       "6                                       Rajaji Nagar     ₹63,045/Month   \n",
       "7        Admiralty Manor, Indiranagar In Indiranagar     ₹85,971/Month   \n",
       "8                        Jains Prakriti In Jayanagar  ₹1.15 Lacs/Month   \n",
       "9    Benaka Apartments In Hal 2nd Stage, Indiranagar     ₹48,717/Month   \n",
       "10                                      Indira Nagar  ₹1.69 Lacs/Month   \n",
       "11                Blueberry Apartment In Indiranagar     ₹87,691/Month   \n",
       "12                           Lakshmipuram Indrinagar     ₹63,045/Month   \n",
       "13     Tarang Parkway Apartment In Basaveshwar Nagar     ₹57,314/Month   \n",
       "14                   Brigade Gateway In Rajaji Nagar   ₹1.5 Lacs/Month   \n",
       "15  Jains Prakruti, Jayanagar In Jayanagar 7th Block     ₹85,971/Month   \n",
       "16                                       Rajajinagar     ₹83,679/Month   \n",
       "17                                      Rajaji Nagar     ₹77,374/Month   \n",
       "18               Adarsh Court Apartment In Jayanagar  ₹1.86 Lacs/Month   \n",
       "19                    Parasmani Regency In Jayanagar  ₹1.43 Lacs/Month   \n",
       "20             Kumar Ashraya Apartments In Jayanagar     ₹37,827/Month   \n",
       "21                      Mayitri Enclave In Jayanagar     ₹44,705/Month   \n",
       "22                  Jayanagar Residency In Jayanagar     ₹57,314/Month   \n",
       "23                       Rrbc Piccassso In Jayanagar  ₹3.91 Lacs/Month   \n",
       "24        Phoenix  One Bangalore West In Rajajinagar  ₹2.72 Lacs/Month   \n",
       "\n",
       "           Price  \n",
       "0   ₹3.25 Crores  \n",
       "1    ₹2.7 Crores  \n",
       "2    ₹1.1 Crores  \n",
       "3   ₹2.75 Crores  \n",
       "4       ₹75 Lacs  \n",
       "5   ₹1.35 Crores  \n",
       "6    ₹1.1 Crores  \n",
       "7    ₹1.5 Crores  \n",
       "8      ₹2 Crores  \n",
       "9       ₹85 Lacs  \n",
       "10  ₹2.95 Crores  \n",
       "11  ₹1.53 Crores  \n",
       "12   ₹1.1 Crores  \n",
       "13      ₹1 Crore  \n",
       "14  ₹2.62 Crores  \n",
       "15   ₹1.5 Crores  \n",
       "16  ₹1.46 Crores  \n",
       "17  ₹1.35 Crores  \n",
       "18  ₹3.25 Crores  \n",
       "19   ₹2.5 Crores  \n",
       "20      ₹66 Lacs  \n",
       "21      ₹78 Lacs  \n",
       "22      ₹1 Crore  \n",
       "23  ₹6.83 Crores  \n",
       "24  ₹4.75 Crores  "
      ]
     },
     "execution_count": 782,
     "metadata": {},
     "output_type": "execute_result"
    }
   ],
   "source": [
    "import pandas as pd\n",
    "\n",
    "data=pd.DataFrame()\n",
    "data['Title']=house_title\n",
    "data['Location']=house_loc\n",
    "data['Area']=house_area\n",
    "data['EMI']=house_emi[1::3]\n",
    "data['Price']=house_prc[2::3]\n",
    "\n",
    "\n",
    "data"
   ]
  },
  {
   "cell_type": "markdown",
   "id": "a3ac3d59",
   "metadata": {},
   "source": [
    "# 9) Write a python program to scrape mentioned details from dineout.co.in :i) Restaurant name ii) Cuisine iii) Location iv) Ratings v) Image URL"
   ]
  },
  {
   "cell_type": "code",
   "execution_count": 718,
   "id": "fcaf3f73",
   "metadata": {},
   "outputs": [],
   "source": [
    "import requests\n",
    "from bs4 import BeautifulSoup\n",
    "import pandas as pd\n"
   ]
  },
  {
   "cell_type": "code",
   "execution_count": 719,
   "id": "a5817b18",
   "metadata": {},
   "outputs": [
    {
     "data": {
      "text/plain": [
       "<Response [200]>"
      ]
     },
     "execution_count": 719,
     "metadata": {},
     "output_type": "execute_result"
    }
   ],
   "source": [
    "page=requests.get('https://www.dineout.co.in/delhi-restaurants')\n",
    "page"
   ]
  },
  {
   "cell_type": "code",
   "execution_count": null,
   "id": "42142c2e",
   "metadata": {},
   "outputs": [],
   "source": [
    "soup=BeautifulSoup(page.content)\n",
    "soup"
   ]
  },
  {
   "cell_type": "code",
   "execution_count": null,
   "id": "247c58a0",
   "metadata": {},
   "outputs": [],
   "source": [
    "Name=[] \n",
    "\n",
    "for i in soup.find_all('a', class_ = \"restnt-name ellipsis\"):\n",
    "    Name.append(i.text)\n",
    "Name  "
   ]
  },
  {
   "cell_type": "code",
   "execution_count": null,
   "id": "05c74122",
   "metadata": {},
   "outputs": [],
   "source": [
    "cuis=[]\n",
    "cuisine=[]\n",
    "\n",
    "for i in soup.find_all('span', class_ = 'double-line-ellipsis'):\n",
    "    cuis.append(i.get_text(strip=True,separator=\" \").split(\"|\"))\n",
    "\n",
    "cuisine = [i[1] for i in cuis]  \n",
    "cuisine"
   ]
  },
  {
   "cell_type": "code",
   "execution_count": null,
   "id": "399c2636",
   "metadata": {},
   "outputs": [],
   "source": [
    "Loc=[]\n",
    "\n",
    "for i in soup.find_all('div', class_ = \"restnt-loc ellipsis\"):\n",
    "    Loc.append(i.text)\n",
    "Loc  \n"
   ]
  },
  {
   "cell_type": "code",
   "execution_count": null,
   "id": "29d9b07d",
   "metadata": {},
   "outputs": [],
   "source": [
    "Rating=[]\n",
    "\n",
    "for i in soup.find_all('div', class_ = 'restnt-rating rating-4'):\n",
    "    Rating.append(i.text)\n",
    "Rating  \n",
    "\n",
    "\n",
    "Rating"
   ]
  },
  {
   "cell_type": "code",
   "execution_count": null,
   "id": "41eab06f",
   "metadata": {},
   "outputs": [],
   "source": [
    "imglink=[]\n",
    "\n",
    "for i in soup.find_all('img',class_=\"no-img\"):\n",
    "    imglink.append(i['data-src'])\n",
    "    \n",
    "imglink\n"
   ]
  },
  {
   "cell_type": "code",
   "execution_count": 754,
   "id": "573fe2ac",
   "metadata": {},
   "outputs": [
    {
     "data": {
      "text/html": [
       "<div>\n",
       "<style scoped>\n",
       "    .dataframe tbody tr th:only-of-type {\n",
       "        vertical-align: middle;\n",
       "    }\n",
       "\n",
       "    .dataframe tbody tr th {\n",
       "        vertical-align: top;\n",
       "    }\n",
       "\n",
       "    .dataframe thead th {\n",
       "        text-align: right;\n",
       "    }\n",
       "</style>\n",
       "<table border=\"1\" class=\"dataframe\">\n",
       "  <thead>\n",
       "    <tr style=\"text-align: right;\">\n",
       "      <th></th>\n",
       "      <th>Restaurant name</th>\n",
       "      <th>Cuisine</th>\n",
       "      <th>Location</th>\n",
       "      <th>Ratings</th>\n",
       "      <th>Image URL</th>\n",
       "    </tr>\n",
       "  </thead>\n",
       "  <tbody>\n",
       "    <tr>\n",
       "      <th>0</th>\n",
       "      <td>Tamasha</td>\n",
       "      <td>Continental , Asian , Italian , North Indian</td>\n",
       "      <td>Connaught Place, Central Delhi</td>\n",
       "      <td>4.2</td>\n",
       "      <td>https://im1.dineout.co.in/images/uploads/resta...</td>\n",
       "    </tr>\n",
       "    <tr>\n",
       "      <th>1</th>\n",
       "      <td>Local</td>\n",
       "      <td>North Indian , Asian , Continental</td>\n",
       "      <td>Scindia House,Connaught Place, Central Delhi</td>\n",
       "      <td>4</td>\n",
       "      <td>https://im1.dineout.co.in/images/uploads/resta...</td>\n",
       "    </tr>\n",
       "    <tr>\n",
       "      <th>2</th>\n",
       "      <td>Unplugged Courtyard</td>\n",
       "      <td>North Indian , Italian , Chinese , Turkish , ...</td>\n",
       "      <td>Connaught Place, Central Delhi</td>\n",
       "      <td>4</td>\n",
       "      <td>https://im1.dineout.co.in/images/uploads/resta...</td>\n",
       "    </tr>\n",
       "    <tr>\n",
       "      <th>3</th>\n",
       "      <td>The G.T. ROAD</td>\n",
       "      <td>North Indian</td>\n",
       "      <td>M-Block,Connaught Place, Central Delhi</td>\n",
       "      <td>4.3</td>\n",
       "      <td>https://im1.dineout.co.in/images/uploads/resta...</td>\n",
       "    </tr>\n",
       "    <tr>\n",
       "      <th>4</th>\n",
       "      <td>Ministry Of Beer</td>\n",
       "      <td>North Indian , Continental , American , Asian</td>\n",
       "      <td>M-Block,Connaught Place, Central Delhi</td>\n",
       "      <td>4</td>\n",
       "      <td>https://im1.dineout.co.in/images/uploads/resta...</td>\n",
       "    </tr>\n",
       "    <tr>\n",
       "      <th>5</th>\n",
       "      <td>Connaught Clubhouse Microbrewery</td>\n",
       "      <td>North Indian , Italian , Asian , European</td>\n",
       "      <td>Connaught Place, Central Delhi</td>\n",
       "      <td>4.2</td>\n",
       "      <td>https://im1.dineout.co.in/images/uploads/resta...</td>\n",
       "    </tr>\n",
       "    <tr>\n",
       "      <th>6</th>\n",
       "      <td>Warehouse Cafe</td>\n",
       "      <td>North Indian , Chinese , Italian</td>\n",
       "      <td>Connaught Place, Central Delhi</td>\n",
       "      <td>4.1</td>\n",
       "      <td>https://im1.dineout.co.in/images/uploads/resta...</td>\n",
       "    </tr>\n",
       "    <tr>\n",
       "      <th>7</th>\n",
       "      <td>Chili's American Grill and Bar</td>\n",
       "      <td>Mexican , American , Tex Mex</td>\n",
       "      <td>M-Block,Connaught Place, Central Delhi</td>\n",
       "      <td>4.3</td>\n",
       "      <td>https://im1.dineout.co.in/images/uploads/resta...</td>\n",
       "    </tr>\n",
       "    <tr>\n",
       "      <th>8</th>\n",
       "      <td>Openhouse Cafe</td>\n",
       "      <td>North Indian , Asian , Italian</td>\n",
       "      <td>Connaught Place, Central Delhi</td>\n",
       "      <td>4.1</td>\n",
       "      <td>https://im1.dineout.co.in/images/uploads/resta...</td>\n",
       "    </tr>\n",
       "    <tr>\n",
       "      <th>9</th>\n",
       "      <td>The Junkyard Cafe</td>\n",
       "      <td>North Indian , Continental , Chinese , Fast Food</td>\n",
       "      <td>Connaught Place, Central Delhi</td>\n",
       "      <td>4.1</td>\n",
       "      <td>https://im1.dineout.co.in/images/uploads/resta...</td>\n",
       "    </tr>\n",
       "    <tr>\n",
       "      <th>10</th>\n",
       "      <td>Sandoz</td>\n",
       "      <td>North Indian , Chinese , Continental</td>\n",
       "      <td>Connaught Place, Central Delhi</td>\n",
       "      <td>4</td>\n",
       "      <td>https://im1.dineout.co.in/images/uploads/resta...</td>\n",
       "    </tr>\n",
       "    <tr>\n",
       "      <th>11</th>\n",
       "      <td>Berco's</td>\n",
       "      <td>Chinese</td>\n",
       "      <td>Connaught Place, Central Delhi</td>\n",
       "      <td>4.3</td>\n",
       "      <td>https://im1.dineout.co.in/images/uploads/resta...</td>\n",
       "    </tr>\n",
       "    <tr>\n",
       "      <th>12</th>\n",
       "      <td>Lord of the Drinks</td>\n",
       "      <td>Chinese , North Indian , Fast Food</td>\n",
       "      <td>Connaught Place, Central Delhi</td>\n",
       "      <td>4.2</td>\n",
       "      <td>https://im1.dineout.co.in/images/uploads/resta...</td>\n",
       "    </tr>\n",
       "    <tr>\n",
       "      <th>13</th>\n",
       "      <td>QBA</td>\n",
       "      <td>North Indian , Continental , Italian</td>\n",
       "      <td>Connaught Place, Central Delhi</td>\n",
       "      <td>4.3</td>\n",
       "      <td>https://im1.dineout.co.in/images/uploads/resta...</td>\n",
       "    </tr>\n",
       "    <tr>\n",
       "      <th>14</th>\n",
       "      <td>High 5 - Everyday Wholesale Bar</td>\n",
       "      <td>North Indian , Continental , Chinese</td>\n",
       "      <td>Connaught Place, Central Delhi</td>\n",
       "      <td>3.9</td>\n",
       "      <td>https://im1.dineout.co.in/images/uploads/resta...</td>\n",
       "    </tr>\n",
       "    <tr>\n",
       "      <th>15</th>\n",
       "      <td>Dasaprakash</td>\n",
       "      <td>South Indian , Kerala , Continental , North I...</td>\n",
       "      <td>Connaught Place, Central Delhi</td>\n",
       "      <td>4.2</td>\n",
       "      <td>https://im1.dineout.co.in/images/uploads/resta...</td>\n",
       "    </tr>\n",
       "    <tr>\n",
       "      <th>16</th>\n",
       "      <td>The Imperial Spice</td>\n",
       "      <td>North Indian , Continental , Mughlai</td>\n",
       "      <td>M-Block,Connaught Place, Central Delhi</td>\n",
       "      <td>4.4</td>\n",
       "      <td>https://im1.dineout.co.in/images/uploads/resta...</td>\n",
       "    </tr>\n",
       "    <tr>\n",
       "      <th>17</th>\n",
       "      <td>My Bar Square</td>\n",
       "      <td>Finger Food , Chinese , Continental , Italian</td>\n",
       "      <td>Connaught Place, Central Delhi</td>\n",
       "      <td>3.8</td>\n",
       "      <td>https://im1.dineout.co.in/images/uploads/resta...</td>\n",
       "    </tr>\n",
       "    <tr>\n",
       "      <th>18</th>\n",
       "      <td>Chido</td>\n",
       "      <td>North Indian , Italian , Continental , Asian ...</td>\n",
       "      <td>Connaught Place, Central Delhi</td>\n",
       "      <td>4.2</td>\n",
       "      <td>https://im1.dineout.co.in/images/uploads/resta...</td>\n",
       "    </tr>\n",
       "    <tr>\n",
       "      <th>19</th>\n",
       "      <td>Out Of The Box Courtyard</td>\n",
       "      <td>North Indian , Mediterranean , Chinese , Italian</td>\n",
       "      <td>Connaught Place, Central Delhi</td>\n",
       "      <td>4.1</td>\n",
       "      <td>https://im1.dineout.co.in/images/uploads/resta...</td>\n",
       "    </tr>\n",
       "    <tr>\n",
       "      <th>20</th>\n",
       "      <td>Ardor 2.1 Restaurant and Lounge</td>\n",
       "      <td>North Indian , Chinese , Italian , Continental</td>\n",
       "      <td>Connaught Place, Central Delhi</td>\n",
       "      <td>3.8</td>\n",
       "      <td>https://im1.dineout.co.in/images/uploads/resta...</td>\n",
       "    </tr>\n",
       "  </tbody>\n",
       "</table>\n",
       "</div>"
      ],
      "text/plain": [
       "                     Restaurant name  \\\n",
       "0                            Tamasha   \n",
       "1                              Local   \n",
       "2                Unplugged Courtyard   \n",
       "3                      The G.T. ROAD   \n",
       "4                   Ministry Of Beer   \n",
       "5   Connaught Clubhouse Microbrewery   \n",
       "6                     Warehouse Cafe   \n",
       "7     Chili's American Grill and Bar   \n",
       "8                     Openhouse Cafe   \n",
       "9                  The Junkyard Cafe   \n",
       "10                            Sandoz   \n",
       "11                           Berco's   \n",
       "12                Lord of the Drinks   \n",
       "13                               QBA   \n",
       "14   High 5 - Everyday Wholesale Bar   \n",
       "15                       Dasaprakash   \n",
       "16                The Imperial Spice   \n",
       "17                     My Bar Square   \n",
       "18                             Chido   \n",
       "19          Out Of The Box Courtyard   \n",
       "20   Ardor 2.1 Restaurant and Lounge   \n",
       "\n",
       "                                              Cuisine  \\\n",
       "0        Continental , Asian , Italian , North Indian   \n",
       "1                  North Indian , Asian , Continental   \n",
       "2    North Indian , Italian , Chinese , Turkish , ...   \n",
       "3                                        North Indian   \n",
       "4       North Indian , Continental , American , Asian   \n",
       "5           North Indian , Italian , Asian , European   \n",
       "6                    North Indian , Chinese , Italian   \n",
       "7                        Mexican , American , Tex Mex   \n",
       "8                      North Indian , Asian , Italian   \n",
       "9    North Indian , Continental , Chinese , Fast Food   \n",
       "10               North Indian , Chinese , Continental   \n",
       "11                                            Chinese   \n",
       "12                 Chinese , North Indian , Fast Food   \n",
       "13               North Indian , Continental , Italian   \n",
       "14               North Indian , Continental , Chinese   \n",
       "15   South Indian , Kerala , Continental , North I...   \n",
       "16               North Indian , Continental , Mughlai   \n",
       "17      Finger Food , Chinese , Continental , Italian   \n",
       "18   North Indian , Italian , Continental , Asian ...   \n",
       "19   North Indian , Mediterranean , Chinese , Italian   \n",
       "20     North Indian , Chinese , Italian , Continental   \n",
       "\n",
       "                                        Location Ratings  \\\n",
       "0                 Connaught Place, Central Delhi     4.2   \n",
       "1   Scindia House,Connaught Place, Central Delhi       4   \n",
       "2                 Connaught Place, Central Delhi       4   \n",
       "3         M-Block,Connaught Place, Central Delhi     4.3   \n",
       "4         M-Block,Connaught Place, Central Delhi       4   \n",
       "5                 Connaught Place, Central Delhi     4.2   \n",
       "6                 Connaught Place, Central Delhi     4.1   \n",
       "7         M-Block,Connaught Place, Central Delhi     4.3   \n",
       "8                 Connaught Place, Central Delhi     4.1   \n",
       "9                 Connaught Place, Central Delhi     4.1   \n",
       "10                Connaught Place, Central Delhi       4   \n",
       "11                Connaught Place, Central Delhi     4.3   \n",
       "12                Connaught Place, Central Delhi     4.2   \n",
       "13                Connaught Place, Central Delhi     4.3   \n",
       "14                Connaught Place, Central Delhi     3.9   \n",
       "15                Connaught Place, Central Delhi     4.2   \n",
       "16        M-Block,Connaught Place, Central Delhi     4.4   \n",
       "17                Connaught Place, Central Delhi     3.8   \n",
       "18                Connaught Place, Central Delhi     4.2   \n",
       "19                Connaught Place, Central Delhi     4.1   \n",
       "20                Connaught Place, Central Delhi     3.8   \n",
       "\n",
       "                                            Image URL  \n",
       "0   https://im1.dineout.co.in/images/uploads/resta...  \n",
       "1   https://im1.dineout.co.in/images/uploads/resta...  \n",
       "2   https://im1.dineout.co.in/images/uploads/resta...  \n",
       "3   https://im1.dineout.co.in/images/uploads/resta...  \n",
       "4   https://im1.dineout.co.in/images/uploads/resta...  \n",
       "5   https://im1.dineout.co.in/images/uploads/resta...  \n",
       "6   https://im1.dineout.co.in/images/uploads/resta...  \n",
       "7   https://im1.dineout.co.in/images/uploads/resta...  \n",
       "8   https://im1.dineout.co.in/images/uploads/resta...  \n",
       "9   https://im1.dineout.co.in/images/uploads/resta...  \n",
       "10  https://im1.dineout.co.in/images/uploads/resta...  \n",
       "11  https://im1.dineout.co.in/images/uploads/resta...  \n",
       "12  https://im1.dineout.co.in/images/uploads/resta...  \n",
       "13  https://im1.dineout.co.in/images/uploads/resta...  \n",
       "14  https://im1.dineout.co.in/images/uploads/resta...  \n",
       "15  https://im1.dineout.co.in/images/uploads/resta...  \n",
       "16  https://im1.dineout.co.in/images/uploads/resta...  \n",
       "17  https://im1.dineout.co.in/images/uploads/resta...  \n",
       "18  https://im1.dineout.co.in/images/uploads/resta...  \n",
       "19  https://im1.dineout.co.in/images/uploads/resta...  \n",
       "20  https://im1.dineout.co.in/images/uploads/resta...  "
      ]
     },
     "execution_count": 754,
     "metadata": {},
     "output_type": "execute_result"
    }
   ],
   "source": [
    "data=pd.DataFrame()\n",
    "\n",
    "data['Restaurant name']=Name\n",
    "data['Cuisine']=cuisine\n",
    "data['Location']=Loc\n",
    "data['Ratings']=Rating\n",
    "data['Image URL']=imglink\n",
    "\n",
    "data"
   ]
  },
  {
   "cell_type": "markdown",
   "id": "9f6d2bc5",
   "metadata": {},
   "source": [
    "# 10) Write a python program to scrape first 10 product details which include product name , price , Image URL from https://www.bewakoof.com/women-tshirts?ga_q=tshirts . "
   ]
  },
  {
   "cell_type": "code",
   "execution_count": 628,
   "id": "c7c012d0",
   "metadata": {},
   "outputs": [],
   "source": [
    "from bs4 import BeautifulSoup\n",
    "import requests"
   ]
  },
  {
   "cell_type": "code",
   "execution_count": 674,
   "id": "14db811a",
   "metadata": {},
   "outputs": [
    {
     "data": {
      "text/plain": [
       "<Response [200]>"
      ]
     },
     "execution_count": 674,
     "metadata": {},
     "output_type": "execute_result"
    }
   ],
   "source": [
    "page=requests.get('https://www.bewakoof.com/top-wear-for-women/category-t-shirt--sleeve-half---sleeve?sort=low')\n",
    "page"
   ]
  },
  {
   "cell_type": "code",
   "execution_count": null,
   "id": "f2e0166e",
   "metadata": {},
   "outputs": [],
   "source": [
    "soup = BeautifulSoup(page.text, 'html.parser')\n",
    "soup"
   ]
  },
  {
   "cell_type": "code",
   "execution_count": null,
   "id": "4e611e0e",
   "metadata": {},
   "outputs": [],
   "source": [
    "prod_name=[] \n",
    "\n",
    "for i in soup.find_all(['h3']):\n",
    "    prod_name.append(i.text)   \n",
    "prod_name"
   ]
  },
  {
   "cell_type": "code",
   "execution_count": null,
   "id": "06718d5c",
   "metadata": {},
   "outputs": [],
   "source": [
    "prod_actual_prc=[] \n",
    "\n",
    "for i in soup.find_all('span',class_=\"discountedPriceText\"):\n",
    "    prod_actual_prc.append(i.text)   \n",
    "prod_actual_prc\n"
   ]
  },
  {
   "cell_type": "code",
   "execution_count": null,
   "id": "817c3150",
   "metadata": {},
   "outputs": [],
   "source": [
    "prod_mem_prc=[] \n",
    "\n",
    "for i in soup.find_all('div',class_=\"loyaltyPriceBox\"):\n",
    "    prod_mem_prc.append(i.text.replace(\"For TriBe Members\",\"\"))   \n",
    "prod_mem_prc"
   ]
  },
  {
   "cell_type": "code",
   "execution_count": null,
   "id": "f9e69046",
   "metadata": {},
   "outputs": [],
   "source": [
    "img_link=[]\n",
    "\n",
    "for i in soup.find_all('img',class_=\"productImgTag\"):\n",
    "    img_link.append(i['src'])\n",
    "    \n",
    "img_link"
   ]
  },
  {
   "cell_type": "code",
   "execution_count": 717,
   "id": "cac19084",
   "metadata": {},
   "outputs": [
    {
     "data": {
      "text/html": [
       "<div>\n",
       "<style scoped>\n",
       "    .dataframe tbody tr th:only-of-type {\n",
       "        vertical-align: middle;\n",
       "    }\n",
       "\n",
       "    .dataframe tbody tr th {\n",
       "        vertical-align: top;\n",
       "    }\n",
       "\n",
       "    .dataframe thead th {\n",
       "        text-align: right;\n",
       "    }\n",
       "</style>\n",
       "<table border=\"1\" class=\"dataframe\">\n",
       "  <thead>\n",
       "    <tr style=\"text-align: right;\">\n",
       "      <th></th>\n",
       "      <th>Name</th>\n",
       "      <th>Actual Price</th>\n",
       "      <th>Member Price</th>\n",
       "      <th>Image Link</th>\n",
       "    </tr>\n",
       "  </thead>\n",
       "  <tbody>\n",
       "    <tr>\n",
       "      <th>0</th>\n",
       "      <td>Difficult Roads Half Sleeve T-shirt</td>\n",
       "      <td>₹ 199</td>\n",
       "      <td>₹179</td>\n",
       "      <td>https://images.bewakoof.com/t320/difficult-roa...</td>\n",
       "    </tr>\n",
       "    <tr>\n",
       "      <th>1</th>\n",
       "      <td>Climbing pocket panda Half Sleeve Printed T-Shirt</td>\n",
       "      <td>₹ 199</td>\n",
       "      <td>₹179</td>\n",
       "      <td>https://images.bewakoof.com/t320/climbing-pock...</td>\n",
       "    </tr>\n",
       "    <tr>\n",
       "      <th>2</th>\n",
       "      <td>Tweety Origami (LTL)</td>\n",
       "      <td>₹ 199</td>\n",
       "      <td>₹179</td>\n",
       "      <td>https://images.bewakoof.com/t320/tweety-origam...</td>\n",
       "    </tr>\n",
       "    <tr>\n",
       "      <th>3</th>\n",
       "      <td>Be A Rainbow Half Sleeve Printed T-Shirt</td>\n",
       "      <td>₹ 199</td>\n",
       "      <td>₹179</td>\n",
       "      <td>https://images.bewakoof.com/t320/be-a-rainbow-...</td>\n",
       "    </tr>\n",
       "    <tr>\n",
       "      <th>4</th>\n",
       "      <td>Climbing pocket panda Half Sleeves Printed T-S...</td>\n",
       "      <td>₹ 199</td>\n",
       "      <td>₹179</td>\n",
       "      <td>https://images.bewakoof.com/t320/climbing-pock...</td>\n",
       "    </tr>\n",
       "    <tr>\n",
       "      <th>5</th>\n",
       "      <td>Atma Nirbhar Half Sleeve T-Shirt</td>\n",
       "      <td>₹ 199</td>\n",
       "      <td>₹179</td>\n",
       "      <td>https://images.bewakoof.com/t320/atma-nirbhar-...</td>\n",
       "    </tr>\n",
       "    <tr>\n",
       "      <th>6</th>\n",
       "      <td>Laila Women's Half Sleeve Printed T-Shirt</td>\n",
       "      <td>₹ 199</td>\n",
       "      <td>₹179</td>\n",
       "      <td>https://images.bewakoof.com/t320/laila-women-s...</td>\n",
       "    </tr>\n",
       "    <tr>\n",
       "      <th>7</th>\n",
       "      <td>Tweety Origami Half Sleeve Printed T-shirt (LTL)</td>\n",
       "      <td>₹ 199</td>\n",
       "      <td>₹179</td>\n",
       "      <td>https://images.bewakoof.com/t320/tweety-origam...</td>\n",
       "    </tr>\n",
       "    <tr>\n",
       "      <th>8</th>\n",
       "      <td>Stay Away Panda Printed Half Sleeve Pink T-shirt</td>\n",
       "      <td>₹ 199</td>\n",
       "      <td>₹179</td>\n",
       "      <td>https://images.bewakoof.com/t320/stay-away-pan...</td>\n",
       "    </tr>\n",
       "    <tr>\n",
       "      <th>9</th>\n",
       "      <td>Wink New Half Sleeve Printed T-Shirt Yellow</td>\n",
       "      <td>₹ 199</td>\n",
       "      <td>₹179</td>\n",
       "      <td>https://images.bewakoof.com/t320/wink-new-half...</td>\n",
       "    </tr>\n",
       "  </tbody>\n",
       "</table>\n",
       "</div>"
      ],
      "text/plain": [
       "                                                Name Actual Price  \\\n",
       "0                Difficult Roads Half Sleeve T-shirt        ₹ 199   \n",
       "1  Climbing pocket panda Half Sleeve Printed T-Shirt        ₹ 199   \n",
       "2                               Tweety Origami (LTL)        ₹ 199   \n",
       "3           Be A Rainbow Half Sleeve Printed T-Shirt        ₹ 199   \n",
       "4  Climbing pocket panda Half Sleeves Printed T-S...        ₹ 199   \n",
       "5                   Atma Nirbhar Half Sleeve T-Shirt        ₹ 199   \n",
       "6          Laila Women's Half Sleeve Printed T-Shirt        ₹ 199   \n",
       "7   Tweety Origami Half Sleeve Printed T-shirt (LTL)        ₹ 199   \n",
       "8   Stay Away Panda Printed Half Sleeve Pink T-shirt        ₹ 199   \n",
       "9        Wink New Half Sleeve Printed T-Shirt Yellow        ₹ 199   \n",
       "\n",
       "  Member Price                                         Image Link  \n",
       "0         ₹179  https://images.bewakoof.com/t320/difficult-roa...  \n",
       "1         ₹179  https://images.bewakoof.com/t320/climbing-pock...  \n",
       "2         ₹179  https://images.bewakoof.com/t320/tweety-origam...  \n",
       "3         ₹179  https://images.bewakoof.com/t320/be-a-rainbow-...  \n",
       "4         ₹179  https://images.bewakoof.com/t320/climbing-pock...  \n",
       "5         ₹179  https://images.bewakoof.com/t320/atma-nirbhar-...  \n",
       "6         ₹179  https://images.bewakoof.com/t320/laila-women-s...  \n",
       "7         ₹179  https://images.bewakoof.com/t320/tweety-origam...  \n",
       "8         ₹179  https://images.bewakoof.com/t320/stay-away-pan...  \n",
       "9         ₹179  https://images.bewakoof.com/t320/wink-new-half...  "
      ]
     },
     "execution_count": 717,
     "metadata": {},
     "output_type": "execute_result"
    }
   ],
   "source": [
    "import pandas as pd\n",
    "\n",
    "data=pd.DataFrame()\n",
    "\n",
    "data['Name']=prod_name\n",
    "data['Actual Price']=prod_actual_prc\n",
    "data['Member Price']=prod_mem_prc\n",
    "data['Image Link']=img_link\n",
    "\n",
    "data"
   ]
  },
  {
   "cell_type": "code",
   "execution_count": null,
   "id": "a84669f5",
   "metadata": {},
   "outputs": [],
   "source": []
  },
  {
   "cell_type": "code",
   "execution_count": null,
   "id": "96af30aa",
   "metadata": {},
   "outputs": [],
   "source": []
  },
  {
   "cell_type": "code",
   "execution_count": null,
   "id": "c39751fc",
   "metadata": {},
   "outputs": [],
   "source": []
  },
  {
   "cell_type": "code",
   "execution_count": null,
   "id": "310d3448",
   "metadata": {},
   "outputs": [],
   "source": []
  },
  {
   "cell_type": "code",
   "execution_count": null,
   "id": "23efdf9c",
   "metadata": {},
   "outputs": [],
   "source": []
  },
  {
   "cell_type": "code",
   "execution_count": null,
   "id": "486ba2ac",
   "metadata": {},
   "outputs": [],
   "source": []
  },
  {
   "cell_type": "code",
   "execution_count": null,
   "id": "aadd78c5",
   "metadata": {},
   "outputs": [],
   "source": []
  },
  {
   "cell_type": "code",
   "execution_count": null,
   "id": "93c4df97",
   "metadata": {},
   "outputs": [],
   "source": []
  },
  {
   "cell_type": "code",
   "execution_count": null,
   "id": "fa99431c",
   "metadata": {},
   "outputs": [],
   "source": []
  },
  {
   "cell_type": "code",
   "execution_count": null,
   "id": "2a67a506",
   "metadata": {},
   "outputs": [],
   "source": []
  },
  {
   "cell_type": "code",
   "execution_count": null,
   "id": "3587364e",
   "metadata": {},
   "outputs": [],
   "source": []
  },
  {
   "cell_type": "code",
   "execution_count": null,
   "id": "8321bbf4",
   "metadata": {},
   "outputs": [],
   "source": []
  },
  {
   "cell_type": "code",
   "execution_count": null,
   "id": "c6f218f4",
   "metadata": {},
   "outputs": [],
   "source": []
  },
  {
   "cell_type": "code",
   "execution_count": null,
   "id": "d2dc9963",
   "metadata": {},
   "outputs": [],
   "source": []
  },
  {
   "cell_type": "code",
   "execution_count": null,
   "id": "22899dd2",
   "metadata": {},
   "outputs": [],
   "source": []
  },
  {
   "cell_type": "code",
   "execution_count": null,
   "id": "6985b61a",
   "metadata": {},
   "outputs": [],
   "source": []
  },
  {
   "cell_type": "code",
   "execution_count": null,
   "id": "9fbbd2e2",
   "metadata": {},
   "outputs": [],
   "source": []
  },
  {
   "cell_type": "code",
   "execution_count": null,
   "id": "614a4f75",
   "metadata": {},
   "outputs": [],
   "source": []
  },
  {
   "cell_type": "code",
   "execution_count": null,
   "id": "630cc60e",
   "metadata": {},
   "outputs": [],
   "source": []
  },
  {
   "cell_type": "code",
   "execution_count": null,
   "id": "25b43828",
   "metadata": {},
   "outputs": [],
   "source": []
  },
  {
   "cell_type": "code",
   "execution_count": null,
   "id": "49e854d1",
   "metadata": {},
   "outputs": [],
   "source": []
  },
  {
   "cell_type": "code",
   "execution_count": null,
   "id": "9e77b95c",
   "metadata": {},
   "outputs": [],
   "source": []
  },
  {
   "cell_type": "code",
   "execution_count": null,
   "id": "6b596009",
   "metadata": {},
   "outputs": [],
   "source": []
  },
  {
   "cell_type": "code",
   "execution_count": null,
   "id": "063495fd",
   "metadata": {},
   "outputs": [],
   "source": []
  },
  {
   "cell_type": "code",
   "execution_count": null,
   "id": "099123a6",
   "metadata": {},
   "outputs": [],
   "source": []
  },
  {
   "cell_type": "code",
   "execution_count": null,
   "id": "31afe2e0",
   "metadata": {},
   "outputs": [],
   "source": []
  },
  {
   "cell_type": "code",
   "execution_count": null,
   "id": "170b47fb",
   "metadata": {},
   "outputs": [],
   "source": []
  },
  {
   "cell_type": "code",
   "execution_count": null,
   "id": "07361024",
   "metadata": {},
   "outputs": [],
   "source": []
  },
  {
   "cell_type": "code",
   "execution_count": null,
   "id": "3d8ae325",
   "metadata": {},
   "outputs": [],
   "source": []
  },
  {
   "cell_type": "code",
   "execution_count": null,
   "id": "0292af5b",
   "metadata": {},
   "outputs": [],
   "source": []
  },
  {
   "cell_type": "code",
   "execution_count": null,
   "id": "e1767e5b",
   "metadata": {},
   "outputs": [],
   "source": []
  },
  {
   "cell_type": "code",
   "execution_count": null,
   "id": "e1b4d33e",
   "metadata": {},
   "outputs": [],
   "source": []
  },
  {
   "cell_type": "code",
   "execution_count": null,
   "id": "404b9d80",
   "metadata": {},
   "outputs": [],
   "source": []
  },
  {
   "cell_type": "code",
   "execution_count": null,
   "id": "03fb291b",
   "metadata": {},
   "outputs": [],
   "source": []
  },
  {
   "cell_type": "code",
   "execution_count": null,
   "id": "8b9cd153",
   "metadata": {},
   "outputs": [],
   "source": []
  },
  {
   "cell_type": "code",
   "execution_count": null,
   "id": "371ba102",
   "metadata": {},
   "outputs": [],
   "source": []
  },
  {
   "cell_type": "code",
   "execution_count": null,
   "id": "93e40388",
   "metadata": {},
   "outputs": [],
   "source": []
  },
  {
   "cell_type": "code",
   "execution_count": null,
   "id": "fd6def4d",
   "metadata": {},
   "outputs": [],
   "source": []
  },
  {
   "cell_type": "code",
   "execution_count": null,
   "id": "c294a346",
   "metadata": {},
   "outputs": [],
   "source": []
  },
  {
   "cell_type": "code",
   "execution_count": null,
   "id": "abb08cff",
   "metadata": {},
   "outputs": [],
   "source": []
  },
  {
   "cell_type": "code",
   "execution_count": null,
   "id": "35f61926",
   "metadata": {},
   "outputs": [],
   "source": []
  },
  {
   "cell_type": "code",
   "execution_count": null,
   "id": "76e9c893",
   "metadata": {},
   "outputs": [],
   "source": []
  },
  {
   "cell_type": "code",
   "execution_count": null,
   "id": "da55f2b8",
   "metadata": {},
   "outputs": [],
   "source": []
  },
  {
   "cell_type": "code",
   "execution_count": null,
   "id": "f143ed84",
   "metadata": {},
   "outputs": [],
   "source": []
  },
  {
   "cell_type": "code",
   "execution_count": null,
   "id": "1e8710f3",
   "metadata": {},
   "outputs": [],
   "source": []
  },
  {
   "cell_type": "code",
   "execution_count": null,
   "id": "583b3396",
   "metadata": {},
   "outputs": [],
   "source": []
  },
  {
   "cell_type": "code",
   "execution_count": null,
   "id": "218f178c",
   "metadata": {},
   "outputs": [],
   "source": []
  },
  {
   "cell_type": "code",
   "execution_count": null,
   "id": "550fcbed",
   "metadata": {},
   "outputs": [],
   "source": []
  },
  {
   "cell_type": "code",
   "execution_count": null,
   "id": "b3816999",
   "metadata": {},
   "outputs": [],
   "source": []
  },
  {
   "cell_type": "code",
   "execution_count": null,
   "id": "a5af172f",
   "metadata": {},
   "outputs": [],
   "source": []
  },
  {
   "cell_type": "code",
   "execution_count": null,
   "id": "8edcc7fd",
   "metadata": {},
   "outputs": [],
   "source": []
  },
  {
   "cell_type": "code",
   "execution_count": null,
   "id": "e0e3b7c9",
   "metadata": {},
   "outputs": [],
   "source": []
  },
  {
   "cell_type": "code",
   "execution_count": null,
   "id": "ec8fd1c2",
   "metadata": {},
   "outputs": [],
   "source": []
  },
  {
   "cell_type": "code",
   "execution_count": null,
   "id": "d29e29ae",
   "metadata": {},
   "outputs": [],
   "source": []
  },
  {
   "cell_type": "code",
   "execution_count": null,
   "id": "7282e4f5",
   "metadata": {},
   "outputs": [],
   "source": []
  },
  {
   "cell_type": "code",
   "execution_count": null,
   "id": "dce93e85",
   "metadata": {},
   "outputs": [],
   "source": []
  },
  {
   "cell_type": "code",
   "execution_count": null,
   "id": "a56ce368",
   "metadata": {},
   "outputs": [],
   "source": []
  },
  {
   "cell_type": "code",
   "execution_count": null,
   "id": "48b820b4",
   "metadata": {},
   "outputs": [],
   "source": []
  },
  {
   "cell_type": "code",
   "execution_count": null,
   "id": "62d5eabb",
   "metadata": {},
   "outputs": [],
   "source": []
  },
  {
   "cell_type": "code",
   "execution_count": null,
   "id": "01d801b1",
   "metadata": {},
   "outputs": [],
   "source": []
  },
  {
   "cell_type": "code",
   "execution_count": null,
   "id": "32336fc2",
   "metadata": {},
   "outputs": [],
   "source": []
  },
  {
   "cell_type": "code",
   "execution_count": null,
   "id": "98b181cc",
   "metadata": {},
   "outputs": [],
   "source": []
  },
  {
   "cell_type": "code",
   "execution_count": null,
   "id": "6586d25b",
   "metadata": {},
   "outputs": [],
   "source": []
  },
  {
   "cell_type": "code",
   "execution_count": null,
   "id": "fdb104d6",
   "metadata": {},
   "outputs": [],
   "source": []
  },
  {
   "cell_type": "code",
   "execution_count": null,
   "id": "403395f3",
   "metadata": {},
   "outputs": [],
   "source": []
  },
  {
   "cell_type": "code",
   "execution_count": null,
   "id": "a7157454",
   "metadata": {},
   "outputs": [],
   "source": []
  },
  {
   "cell_type": "code",
   "execution_count": null,
   "id": "ddd0bd78",
   "metadata": {},
   "outputs": [],
   "source": []
  },
  {
   "cell_type": "code",
   "execution_count": null,
   "id": "f6e6441c",
   "metadata": {},
   "outputs": [],
   "source": []
  },
  {
   "cell_type": "code",
   "execution_count": null,
   "id": "60b8932e",
   "metadata": {},
   "outputs": [],
   "source": []
  },
  {
   "cell_type": "code",
   "execution_count": null,
   "id": "52a6e07f",
   "metadata": {},
   "outputs": [],
   "source": []
  },
  {
   "cell_type": "code",
   "execution_count": null,
   "id": "b1e70522",
   "metadata": {},
   "outputs": [],
   "source": []
  },
  {
   "cell_type": "code",
   "execution_count": null,
   "id": "03d6222d",
   "metadata": {},
   "outputs": [],
   "source": []
  },
  {
   "cell_type": "code",
   "execution_count": null,
   "id": "358e8077",
   "metadata": {},
   "outputs": [],
   "source": []
  },
  {
   "cell_type": "code",
   "execution_count": null,
   "id": "c7188994",
   "metadata": {},
   "outputs": [],
   "source": []
  },
  {
   "cell_type": "code",
   "execution_count": null,
   "id": "e21c4da2",
   "metadata": {},
   "outputs": [],
   "source": []
  },
  {
   "cell_type": "code",
   "execution_count": null,
   "id": "4bd55376",
   "metadata": {},
   "outputs": [],
   "source": []
  },
  {
   "cell_type": "code",
   "execution_count": null,
   "id": "4d8136e1",
   "metadata": {},
   "outputs": [],
   "source": []
  },
  {
   "cell_type": "code",
   "execution_count": null,
   "id": "e8681db4",
   "metadata": {},
   "outputs": [],
   "source": []
  },
  {
   "cell_type": "code",
   "execution_count": null,
   "id": "379ec5f1",
   "metadata": {},
   "outputs": [],
   "source": []
  },
  {
   "cell_type": "code",
   "execution_count": null,
   "id": "771ee8d7",
   "metadata": {},
   "outputs": [],
   "source": []
  },
  {
   "cell_type": "code",
   "execution_count": null,
   "id": "ba1c8533",
   "metadata": {},
   "outputs": [],
   "source": []
  },
  {
   "cell_type": "code",
   "execution_count": null,
   "id": "0955ce8a",
   "metadata": {},
   "outputs": [],
   "source": []
  },
  {
   "cell_type": "code",
   "execution_count": null,
   "id": "8af12ca0",
   "metadata": {},
   "outputs": [],
   "source": []
  },
  {
   "cell_type": "code",
   "execution_count": null,
   "id": "3215d650",
   "metadata": {},
   "outputs": [],
   "source": []
  },
  {
   "cell_type": "code",
   "execution_count": null,
   "id": "9c69143d",
   "metadata": {},
   "outputs": [],
   "source": []
  },
  {
   "cell_type": "code",
   "execution_count": null,
   "id": "f89547d7",
   "metadata": {},
   "outputs": [],
   "source": []
  },
  {
   "cell_type": "code",
   "execution_count": null,
   "id": "9bcddab4",
   "metadata": {},
   "outputs": [],
   "source": []
  },
  {
   "cell_type": "code",
   "execution_count": null,
   "id": "30780b06",
   "metadata": {},
   "outputs": [],
   "source": []
  },
  {
   "cell_type": "code",
   "execution_count": null,
   "id": "d019e578",
   "metadata": {},
   "outputs": [],
   "source": []
  },
  {
   "cell_type": "code",
   "execution_count": null,
   "id": "e241036d",
   "metadata": {},
   "outputs": [],
   "source": []
  },
  {
   "cell_type": "code",
   "execution_count": null,
   "id": "9a808e71",
   "metadata": {},
   "outputs": [],
   "source": []
  },
  {
   "cell_type": "code",
   "execution_count": null,
   "id": "d4b9aeac",
   "metadata": {},
   "outputs": [],
   "source": []
  },
  {
   "cell_type": "code",
   "execution_count": null,
   "id": "704ce23b",
   "metadata": {},
   "outputs": [],
   "source": []
  },
  {
   "cell_type": "code",
   "execution_count": null,
   "id": "dc44c597",
   "metadata": {},
   "outputs": [],
   "source": []
  },
  {
   "cell_type": "code",
   "execution_count": null,
   "id": "217391cf",
   "metadata": {},
   "outputs": [],
   "source": []
  },
  {
   "cell_type": "code",
   "execution_count": null,
   "id": "e992d21a",
   "metadata": {},
   "outputs": [],
   "source": []
  },
  {
   "cell_type": "code",
   "execution_count": null,
   "id": "30747de6",
   "metadata": {},
   "outputs": [],
   "source": []
  },
  {
   "cell_type": "code",
   "execution_count": null,
   "id": "38e4d437",
   "metadata": {},
   "outputs": [],
   "source": []
  },
  {
   "cell_type": "code",
   "execution_count": null,
   "id": "99aa2806",
   "metadata": {},
   "outputs": [],
   "source": []
  },
  {
   "cell_type": "code",
   "execution_count": null,
   "id": "7476c4fc",
   "metadata": {},
   "outputs": [],
   "source": []
  },
  {
   "cell_type": "code",
   "execution_count": null,
   "id": "1e443690",
   "metadata": {},
   "outputs": [],
   "source": []
  },
  {
   "cell_type": "code",
   "execution_count": null,
   "id": "855d620b",
   "metadata": {},
   "outputs": [],
   "source": []
  },
  {
   "cell_type": "code",
   "execution_count": null,
   "id": "a590c5ce",
   "metadata": {},
   "outputs": [],
   "source": []
  },
  {
   "cell_type": "code",
   "execution_count": null,
   "id": "58ec8d7d",
   "metadata": {},
   "outputs": [],
   "source": []
  },
  {
   "cell_type": "code",
   "execution_count": null,
   "id": "ec7a52dd",
   "metadata": {},
   "outputs": [],
   "source": []
  },
  {
   "cell_type": "code",
   "execution_count": null,
   "id": "56d0a91c",
   "metadata": {},
   "outputs": [],
   "source": []
  },
  {
   "cell_type": "code",
   "execution_count": null,
   "id": "bfeada72",
   "metadata": {},
   "outputs": [],
   "source": []
  },
  {
   "cell_type": "code",
   "execution_count": null,
   "id": "b1efd25e",
   "metadata": {},
   "outputs": [],
   "source": []
  },
  {
   "cell_type": "code",
   "execution_count": null,
   "id": "27c63a3b",
   "metadata": {},
   "outputs": [],
   "source": []
  },
  {
   "cell_type": "code",
   "execution_count": null,
   "id": "dbbcd600",
   "metadata": {},
   "outputs": [],
   "source": []
  },
  {
   "cell_type": "code",
   "execution_count": null,
   "id": "40e74d25",
   "metadata": {},
   "outputs": [],
   "source": []
  },
  {
   "cell_type": "code",
   "execution_count": null,
   "id": "b094ce27",
   "metadata": {},
   "outputs": [],
   "source": []
  },
  {
   "cell_type": "code",
   "execution_count": null,
   "id": "b3475efa",
   "metadata": {},
   "outputs": [],
   "source": []
  },
  {
   "cell_type": "code",
   "execution_count": null,
   "id": "d2a1eca6",
   "metadata": {},
   "outputs": [],
   "source": []
  },
  {
   "cell_type": "code",
   "execution_count": null,
   "id": "d37ac023",
   "metadata": {},
   "outputs": [],
   "source": []
  },
  {
   "cell_type": "code",
   "execution_count": null,
   "id": "af259604",
   "metadata": {},
   "outputs": [],
   "source": []
  },
  {
   "cell_type": "code",
   "execution_count": null,
   "id": "1a1e593e",
   "metadata": {},
   "outputs": [],
   "source": []
  },
  {
   "cell_type": "code",
   "execution_count": null,
   "id": "55191177",
   "metadata": {},
   "outputs": [],
   "source": []
  },
  {
   "cell_type": "code",
   "execution_count": null,
   "id": "978e3e3c",
   "metadata": {},
   "outputs": [],
   "source": []
  },
  {
   "cell_type": "code",
   "execution_count": null,
   "id": "ca9ae476",
   "metadata": {},
   "outputs": [],
   "source": []
  },
  {
   "cell_type": "code",
   "execution_count": null,
   "id": "2692f64d",
   "metadata": {},
   "outputs": [],
   "source": []
  },
  {
   "cell_type": "code",
   "execution_count": null,
   "id": "4786a213",
   "metadata": {},
   "outputs": [],
   "source": []
  },
  {
   "cell_type": "code",
   "execution_count": null,
   "id": "456d8e2e",
   "metadata": {},
   "outputs": [],
   "source": []
  },
  {
   "cell_type": "code",
   "execution_count": null,
   "id": "0a6d242d",
   "metadata": {},
   "outputs": [],
   "source": []
  },
  {
   "cell_type": "code",
   "execution_count": null,
   "id": "b9980a37",
   "metadata": {},
   "outputs": [],
   "source": []
  },
  {
   "cell_type": "code",
   "execution_count": null,
   "id": "5da2b447",
   "metadata": {},
   "outputs": [],
   "source": []
  },
  {
   "cell_type": "code",
   "execution_count": null,
   "id": "c53c42e9",
   "metadata": {},
   "outputs": [],
   "source": []
  },
  {
   "cell_type": "code",
   "execution_count": null,
   "id": "7380b786",
   "metadata": {},
   "outputs": [],
   "source": []
  },
  {
   "cell_type": "code",
   "execution_count": null,
   "id": "38f4d2a2",
   "metadata": {},
   "outputs": [],
   "source": []
  },
  {
   "cell_type": "code",
   "execution_count": null,
   "id": "4c62d5db",
   "metadata": {},
   "outputs": [],
   "source": []
  },
  {
   "cell_type": "code",
   "execution_count": null,
   "id": "97c34a68",
   "metadata": {},
   "outputs": [],
   "source": []
  },
  {
   "cell_type": "code",
   "execution_count": null,
   "id": "131425b9",
   "metadata": {},
   "outputs": [],
   "source": []
  },
  {
   "cell_type": "code",
   "execution_count": null,
   "id": "ba5bb2c9",
   "metadata": {},
   "outputs": [],
   "source": []
  },
  {
   "cell_type": "code",
   "execution_count": null,
   "id": "8c6c2e4d",
   "metadata": {},
   "outputs": [],
   "source": []
  },
  {
   "cell_type": "code",
   "execution_count": null,
   "id": "b9f6ed2f",
   "metadata": {},
   "outputs": [],
   "source": []
  },
  {
   "cell_type": "code",
   "execution_count": null,
   "id": "ca52a361",
   "metadata": {},
   "outputs": [],
   "source": []
  },
  {
   "cell_type": "code",
   "execution_count": null,
   "id": "93a8beff",
   "metadata": {},
   "outputs": [],
   "source": []
  },
  {
   "cell_type": "code",
   "execution_count": null,
   "id": "4dfd2493",
   "metadata": {},
   "outputs": [],
   "source": []
  },
  {
   "cell_type": "code",
   "execution_count": null,
   "id": "405eeec3",
   "metadata": {},
   "outputs": [],
   "source": []
  },
  {
   "cell_type": "code",
   "execution_count": null,
   "id": "4bdc532e",
   "metadata": {},
   "outputs": [],
   "source": []
  },
  {
   "cell_type": "code",
   "execution_count": null,
   "id": "8e82456f",
   "metadata": {},
   "outputs": [],
   "source": []
  },
  {
   "cell_type": "code",
   "execution_count": null,
   "id": "f37f536c",
   "metadata": {},
   "outputs": [],
   "source": []
  },
  {
   "cell_type": "code",
   "execution_count": null,
   "id": "76eeb0da",
   "metadata": {},
   "outputs": [],
   "source": []
  },
  {
   "cell_type": "code",
   "execution_count": null,
   "id": "b62d2f0b",
   "metadata": {},
   "outputs": [],
   "source": []
  },
  {
   "cell_type": "code",
   "execution_count": null,
   "id": "da2bc572",
   "metadata": {},
   "outputs": [],
   "source": []
  },
  {
   "cell_type": "code",
   "execution_count": null,
   "id": "50452a56",
   "metadata": {},
   "outputs": [],
   "source": []
  },
  {
   "cell_type": "code",
   "execution_count": null,
   "id": "45075091",
   "metadata": {},
   "outputs": [],
   "source": []
  },
  {
   "cell_type": "code",
   "execution_count": null,
   "id": "f266289b",
   "metadata": {},
   "outputs": [],
   "source": []
  },
  {
   "cell_type": "code",
   "execution_count": null,
   "id": "3ebcd487",
   "metadata": {},
   "outputs": [],
   "source": []
  },
  {
   "cell_type": "code",
   "execution_count": null,
   "id": "96b4f41b",
   "metadata": {},
   "outputs": [],
   "source": []
  },
  {
   "cell_type": "code",
   "execution_count": null,
   "id": "5ee3a48f",
   "metadata": {},
   "outputs": [],
   "source": []
  },
  {
   "cell_type": "code",
   "execution_count": null,
   "id": "a8383a84",
   "metadata": {},
   "outputs": [],
   "source": []
  },
  {
   "cell_type": "code",
   "execution_count": null,
   "id": "78dac51f",
   "metadata": {},
   "outputs": [],
   "source": []
  },
  {
   "cell_type": "code",
   "execution_count": null,
   "id": "df3f1afc",
   "metadata": {},
   "outputs": [],
   "source": []
  },
  {
   "cell_type": "code",
   "execution_count": null,
   "id": "fb1fc2f3",
   "metadata": {},
   "outputs": [],
   "source": []
  },
  {
   "cell_type": "code",
   "execution_count": null,
   "id": "54689225",
   "metadata": {},
   "outputs": [],
   "source": []
  },
  {
   "cell_type": "code",
   "execution_count": null,
   "id": "ed9005b8",
   "metadata": {},
   "outputs": [],
   "source": []
  },
  {
   "cell_type": "code",
   "execution_count": null,
   "id": "123202f8",
   "metadata": {},
   "outputs": [],
   "source": []
  },
  {
   "cell_type": "code",
   "execution_count": null,
   "id": "90c6478b",
   "metadata": {},
   "outputs": [],
   "source": []
  },
  {
   "cell_type": "code",
   "execution_count": null,
   "id": "c61cb6e0",
   "metadata": {},
   "outputs": [],
   "source": []
  },
  {
   "cell_type": "code",
   "execution_count": null,
   "id": "1fc74e87",
   "metadata": {},
   "outputs": [],
   "source": []
  },
  {
   "cell_type": "code",
   "execution_count": null,
   "id": "fe3f1e25",
   "metadata": {},
   "outputs": [],
   "source": []
  },
  {
   "cell_type": "code",
   "execution_count": null,
   "id": "de1c7697",
   "metadata": {},
   "outputs": [],
   "source": []
  },
  {
   "cell_type": "code",
   "execution_count": null,
   "id": "20f9301e",
   "metadata": {},
   "outputs": [],
   "source": []
  },
  {
   "cell_type": "code",
   "execution_count": null,
   "id": "a4b20571",
   "metadata": {},
   "outputs": [],
   "source": []
  },
  {
   "cell_type": "code",
   "execution_count": null,
   "id": "e5f0e26b",
   "metadata": {},
   "outputs": [],
   "source": []
  },
  {
   "cell_type": "code",
   "execution_count": null,
   "id": "e28ea0e6",
   "metadata": {},
   "outputs": [],
   "source": []
  },
  {
   "cell_type": "code",
   "execution_count": null,
   "id": "c5bec12b",
   "metadata": {},
   "outputs": [],
   "source": []
  },
  {
   "cell_type": "code",
   "execution_count": null,
   "id": "2e0b4ace",
   "metadata": {},
   "outputs": [],
   "source": []
  },
  {
   "cell_type": "code",
   "execution_count": null,
   "id": "44cc65c9",
   "metadata": {},
   "outputs": [],
   "source": []
  },
  {
   "cell_type": "code",
   "execution_count": null,
   "id": "2e03b593",
   "metadata": {},
   "outputs": [],
   "source": []
  }
 ],
 "metadata": {
  "kernelspec": {
   "display_name": "Python 3 (ipykernel)",
   "language": "python",
   "name": "python3"
  },
  "language_info": {
   "codemirror_mode": {
    "name": "ipython",
    "version": 3
   },
   "file_extension": ".py",
   "mimetype": "text/x-python",
   "name": "python",
   "nbconvert_exporter": "python",
   "pygments_lexer": "ipython3",
   "version": "3.9.7"
  }
 },
 "nbformat": 4,
 "nbformat_minor": 5
}
